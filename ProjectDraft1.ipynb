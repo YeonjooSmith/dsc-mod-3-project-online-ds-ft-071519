{
 "cells": [
  {
   "cell_type": "code",
   "execution_count": 1,
   "metadata": {},
   "outputs": [],
   "source": [
    "import sqlite3\n",
    "import pandas as pd\n",
    "import matplotlib.pyplot as plt\n",
    "plt.style.use('seaborn-deep')\n",
    "import seaborn as sns\n",
    "import numpy as np\n",
    "import flatiron_stats as fs\n",
    "%matplotlib inline\n",
    "\n",
    "import scipy.stats as stats\n",
    "\n",
    "from statsmodels.stats.power import TTestIndPower, TTestPower\n",
    "from pandasql import sqldf"
   ]
  },
  {
   "cell_type": "code",
   "execution_count": 2,
   "metadata": {},
   "outputs": [],
   "source": [
    "pysqldf = lambda q: sqldf(q, globals())# to pass in SQL queries in the form of a string to directly query our database.  "
   ]
  },
  {
   "cell_type": "markdown",
   "metadata": {
    "heading_collapsed": true
   },
   "source": [
    "### Building functions for statistical testing"
   ]
  },
  {
   "cell_type": "markdown",
   "metadata": {},
   "source": [
    "### Welch's t-test\n",
    "Use: To compare means between two samples\n",
    "Assumption: Two populations represented by the two given samples have normal distributions. Two samples have unequal variances and sizes. If two samples have same sizes and equal variances, the result of the test will be identical to student's t-test."
   ]
  },
  {
   "cell_type": "code",
   "execution_count": 135,
   "metadata": {
    "scrolled": true
   },
   "outputs": [],
   "source": [
    "def welch_t(exp, cont):\n",
    "    \n",
    "    \"\"\" Calculate Welch's t statistic for two samples. \"\"\"\n",
    "\n",
    "    numerator = exp.mean() - cont.mean()\n",
    "    \n",
    "    # “ddof = Delta Degrees of Freedom”: the divisor used in the calculation is N - ddof, \n",
    "    #  where N represents the number of elements. By default ddof is zero.\n",
    "    \n",
    "    denominator = np.sqrt(exp.var(ddof=1)/exp.size + cont.var(ddof=1)/cont.size)\n",
    "    \n",
    "    return np.abs(numerator/denominator)\n",
    "\n",
    "def welch_df(exp, cont):\n",
    "    \n",
    "    \"\"\" Calculate the effective degrees of freedom for two samples. This function returns the degrees of freedom \"\"\"\n",
    "    \n",
    "    s1 = exp.var(ddof=1) \n",
    "    s2 = cont.var(ddof=1)\n",
    "    n1 = exp.size\n",
    "    n2 = cont.size\n",
    "    \n",
    "    numerator = (s1/n1 + s2/n2)**2\n",
    "    denominator = (s1/ n1)**2/(n1 - 1) + (s2/ n2)**2/(n2 - 1)\n",
    "    \n",
    "    return numerator/denominator\n",
    "\n",
    "\n",
    "def p_value_welch_ttest(exp, cont, two_sided=False):\n",
    "    \"\"\"Calculates the p-value for Welch's t-test given two samples.\n",
    "    By default, the returned p-value is for a one-sided t-test. \n",
    "    Set the two-sided parameter to True if you wish to perform a two-sided t-test instead.\n",
    "    \"\"\"\n",
    "    t = welch_t(exp, cont)\n",
    "    df = welch_df(exp, cont)\n",
    "    \n",
    "    p = 1-stats.t.cdf(np.abs(t), df)\n",
    "    \n",
    "    if two_sided:\n",
    "        return 2*p\n",
    "    else:\n",
    "        return p"
   ]
  },
  {
   "cell_type": "code",
   "execution_count": 164,
   "metadata": {},
   "outputs": [],
   "source": [
    "def welch_summary(dict_dfs, alpha =0.5,two_sided=False):\n",
    "    \"\"\"\n",
    "        The function \n",
    "        takes :\n",
    "        dic_dfs ={group1: pandas.Series, group2:pandas.Series }\n",
    "            note: group1 is the experimental group and group2 is the control group. \n",
    "        alpah (optional, significance level)\n",
    "        two_sided(optional, choosing two tail (True) or one tail(False, default))\n",
    "        \n",
    "        prints information to compare two groups using welch's t-test:\n",
    "        median values,\n",
    "        mean values,\n",
    "        sample sizes, \n",
    "        welch's t-test p-value\n",
    "        conclusion of the test result \n",
    "        Cohen's d for effect size (if the difference of mean values of two \n",
    "        groups is significant) \n",
    "        \n",
    "        returns:\n",
    "        p value if the null hypothesis fails to be rejected\n",
    "        (p value, Cohen's D) if the null hypothesis is rejected\n",
    "        \"\"\"\n",
    "    names = list(dict_dfs.keys())\n",
    "    data = list(dict_dfs.values())\n",
    "    n1 = names[0]\n",
    "    n2 = names[1]\n",
    "    a = data[0]\n",
    "    b = data[1]\n",
    "    print(f'Comparison of the average of total order per year  for year {n1} and {n2}')\n",
    "    print(f'Median Values: \\t{n1}:{round(a.median(),2)}', \n",
    "          f'\\t{n2}:{round(b.median(),2)}')\n",
    "    print(f'Mean Values: \\t{n1}:{round(a.mean(),2)}',\n",
    "          f'\\t{n2}:{round(b.mean(),2)}')\n",
    "    print(f'Sample sizes: \\t{n1}:{len(a)}', \n",
    "          f'\\t{n2}:{len(b)}')\n",
    "    print(\"\\n\")\n",
    "    print(f\"Welch's t-test p-value:{round(p_value_welch_ttest(a,b),5)}\")\n",
    "    if p_value_welch_ttest(a,b, two_sided)< alpha:\n",
    "        print(f\"Test result:\\tThere is statistically significant difference \\n\",\n",
    "                 f\"\\t\\tbetween the means of two groups with {(1-alpha)*100}% confidence level.\")\n",
    "        print(f\"Effect size:\\t{round(Cohen_d(a,b),2)}\")\n",
    "        print(f\"Level of effect size:\\t{cohen_level(round(Cohen_d(a,b),2))}\")\n",
    "        return(round(p_value_welch_ttest(a,b),5), round(Cohen_d(a,b),2))\n",
    "    else:\n",
    "        print(f\"Test result:\\tThe differenc in mean values between two groups is\\n\",\n",
    "             f\"\\t\\tstatistically insignificant with {alpha*100}% significance level.\")\n",
    "        return(round(p_value_welch_ttest(a,b),5))\n"
   ]
  },
  {
   "cell_type": "markdown",
   "metadata": {},
   "source": [
    "### Cohen's d (effect size)"
   ]
  },
  {
   "cell_type": "code",
   "execution_count": 133,
   "metadata": {},
   "outputs": [],
   "source": [
    "def Cohen_d(exp, cont):\n",
    "\n",
    "    # Compute Cohen's d.\n",
    "\n",
    "    # exp: Series or NumPy array\n",
    "    # cont: Series or NumPy array\n",
    "\n",
    "    # returns a floating point number \n",
    "\n",
    "    diff = exp.mean() - cont.mean()\n",
    "\n",
    "    n1, n2 = len(exp), len(cont)\n",
    "    var1 = exp.var()\n",
    "    var2 = cont.var()\n",
    "\n",
    "    # Calculate the pooled threshold as shown earlier\n",
    "    pooled_var = (n1 * var1 + n2 * var2) / (n1 + n2)\n",
    "    \n",
    "    # Calculate Cohen's d statistic\n",
    "    d = diff / np.sqrt(pooled_var)\n",
    "    \n",
    "    return d"
   ]
  },
  {
   "cell_type": "code",
   "execution_count": 155,
   "metadata": {},
   "outputs": [],
   "source": [
    "def cohen_level(a):\n",
    "    \"\"\"input: Cohen's d\n",
    "       output: level of the effect size\"\"\"\n",
    "    if a<0.2:\n",
    "        return('very small')\n",
    "    elif 0.2<= a <0.5:\n",
    "        return('small')\n",
    "    elif 0.5<= a<0.8:\n",
    "        return('medium')\n",
    "    else:\n",
    "        return('large')\n",
    "        "
   ]
  },
  {
   "cell_type": "code",
   "execution_count": 4,
   "metadata": {},
   "outputs": [],
   "source": [
    "conn = sqlite3.connect('Northwind_small.sqlite')\n",
    "c= conn.cursor()"
   ]
  },
  {
   "cell_type": "code",
   "execution_count": 5,
   "metadata": {},
   "outputs": [
    {
     "data": {
      "text/plain": [
       "['Employee',\n",
       " 'Category',\n",
       " 'Customer',\n",
       " 'Shipper',\n",
       " 'Supplier',\n",
       " 'Order',\n",
       " 'Product',\n",
       " 'OrderDetail',\n",
       " 'CustomerCustomerDemo',\n",
       " 'CustomerDemographic',\n",
       " 'Region',\n",
       " 'Territory',\n",
       " 'EmployeeTerritory']"
      ]
     },
     "execution_count": 5,
     "metadata": {},
     "output_type": "execute_result"
    }
   ],
   "source": [
    "#Save table names \n",
    "table_names = [x[0] for x in c.execute(\"SELECT name from sqlite_master WHERE type ='table';\").fetchall()]\n",
    "table_names"
   ]
  },
  {
   "cell_type": "code",
   "execution_count": 6,
   "metadata": {},
   "outputs": [],
   "source": [
    "df_tables ={}\n",
    "for name in table_names:\n",
    "    #'Order' is a reserved keyword in SQL so we put [] to use it as table name\n",
    "    if name == 'Order':\n",
    "        query =f\"SELECT * from [{name}]\"\n",
    "        df_tables[name]=pd.read_sql(query,conn)\n",
    "    else:\n",
    "        query =f\"SELECT * from {name}\"\n",
    "        df_tables[name]=pd.read_sql(query,conn)"
   ]
  },
  {
   "cell_type": "code",
   "execution_count": 7,
   "metadata": {},
   "outputs": [
    {
     "data": {
      "text/plain": [
       "0.3146067415730337"
      ]
     },
     "execution_count": 7,
     "metadata": {},
     "output_type": "execute_result"
    }
   ],
   "source": [
    "sum(df_tables['Order'].CustomerId.value_counts()>10)/len(df_tables['Order'].CustomerId.value_counts())"
   ]
  },
  {
   "cell_type": "markdown",
   "metadata": {},
   "source": [
    "# Did the sales change over each year?"
   ]
  },
  {
   "cell_type": "code",
   "execution_count": 8,
   "metadata": {},
   "outputs": [],
   "source": [
    "\"\"\"Join Products/Order/OrderDetail/Category\"\"\"\n",
    "query = \"\"\"SELECT * \n",
    "            FROM Product AS p \n",
    "            LEFT JOIN OrderDetail AS od\n",
    "            ON (p.Id = od.ProductId)\n",
    "            JOIN Category as c \n",
    "            on (p.CategoryID = c.Id)\n",
    "            JOIN [Order] as o \n",
    "            ON (o.Id = od.OrderId);\"\"\"\n",
    "df = pd.read_sql(query, conn)"
   ]
  },
  {
   "cell_type": "code",
   "execution_count": 9,
   "metadata": {},
   "outputs": [],
   "source": [
    "# if len(df.columns) !=len(set(df.columns)):\n",
    "def rename_dup_columns(df):\n",
    "    '''\n",
    "    Takes a dataframe and check if its column has identical names. \n",
    "    Then if there are,return the column names and number of identical columns, \n",
    "    and an array of updated column names.\n",
    "    \n",
    "    For example, if there are 2 columns with name 'Id':\n",
    "    * it will print \"There are 2 columns with name: Id \"\n",
    "    * it will keep first column name as it is and the second column name as Id.1 \n",
    "        and return the updated array of column names. \n",
    "    '''\n",
    "    cols = pd.Series(df.columns)\n",
    "\n",
    "    if len(df.columns.get_duplicates())>0:\n",
    "        for dup in df.columns.get_duplicates():\n",
    "            print(f\"There are {df.columns.get_loc(dup).sum()} columns with name:{dup}\")\n",
    "            #df.columns.get_loc(dup) is an np.array not a list which makes it possible to do follwing\n",
    "            cols[df.columns.get_loc(dup)] =np.array([dup + '_' + str(d_idx) \n",
    "                                             if d_idx != 0 \n",
    "                                             else dup \n",
    "                                             for d_idx in range(df.columns.get_loc(dup).sum())])\n",
    "        return cols        \n",
    "    else:\n",
    "        return \"There is not identically named columns in the dataframe\"\n",
    "        "
   ]
  },
  {
   "cell_type": "code",
   "execution_count": 10,
   "metadata": {},
   "outputs": [
    {
     "name": "stdout",
     "output_type": "stream",
     "text": [
      "There are 4 columns with name:Id\n",
      "There are 2 columns with name:UnitPrice\n"
     ]
    },
    {
     "name": "stderr",
     "output_type": "stream",
     "text": [
      "C:\\Users\\woogu\\Anaconda3\\envs\\learn-env\\lib\\site-packages\\ipykernel_launcher.py:15: FutureWarning: 'get_duplicates' is deprecated and will be removed in a future release. You can use idx[idx.duplicated()].unique() instead\n",
      "  from ipykernel import kernelapp as app\n",
      "C:\\Users\\woogu\\Anaconda3\\envs\\learn-env\\lib\\site-packages\\ipykernel_launcher.py:16: FutureWarning: 'get_duplicates' is deprecated and will be removed in a future release. You can use idx[idx.duplicated()].unique() instead\n",
      "  app.launch_new_instance()\n"
     ]
    }
   ],
   "source": [
    "df.columns = rename_dup_columns(df)"
   ]
  },
  {
   "cell_type": "code",
   "execution_count": 11,
   "metadata": {},
   "outputs": [
    {
     "name": "stderr",
     "output_type": "stream",
     "text": [
      "C:\\Users\\woogu\\Anaconda3\\envs\\learn-env\\lib\\site-packages\\ipykernel_launcher.py:15: FutureWarning: 'get_duplicates' is deprecated and will be removed in a future release. You can use idx[idx.duplicated()].unique() instead\n",
      "  from ipykernel import kernelapp as app\n"
     ]
    },
    {
     "data": {
      "text/plain": [
       "'There is not identically named columns in the dataframe'"
      ]
     },
     "execution_count": 11,
     "metadata": {},
     "output_type": "execute_result"
    }
   ],
   "source": [
    "rename_dup_columns(df)"
   ]
  },
  {
   "cell_type": "code",
   "execution_count": 12,
   "metadata": {
    "scrolled": true
   },
   "outputs": [],
   "source": [
    "'''Creating new feature for total price per order '''\n",
    "df.eval(\"Price_total = UnitPrice*Quantity \",inplace = True)"
   ]
  },
  {
   "cell_type": "code",
   "execution_count": 13,
   "metadata": {},
   "outputs": [],
   "source": [
    "df['Year_Order']=[int(x[:4]) for x in df.OrderDate]"
   ]
  },
  {
   "cell_type": "code",
   "execution_count": 14,
   "metadata": {},
   "outputs": [
    {
     "name": "stderr",
     "output_type": "stream",
     "text": [
      "C:\\Users\\woogu\\Anaconda3\\envs\\learn-env\\lib\\site-packages\\scipy\\stats\\stats.py:1713: FutureWarning: Using a non-tuple sequence for multidimensional indexing is deprecated; use `arr[tuple(seq)]` instead of `arr[seq]`. In the future this will be interpreted as an array index, `arr[np.array(seq)]`, which will result either in an error or a different result.\n",
      "  return np.add.reduce(sorted[indexer] * weights, axis=axis) / sumval\n"
     ]
    },
    {
     "data": {
      "image/png": "[encoded data removed]",
      "text/plain": [
       "<Figure size 432x288 with 1 Axes>"
      ]
     },
     "metadata": {
      "needs_background": "light"
     },
     "output_type": "display_data"
    }
   ],
   "source": [
    "sns.distplot(df['Year_Order'], kde = False)\n",
    "plt.xticks([2012,2013,2014])\n",
    "plt.show()"
   ]
  },
  {
   "cell_type": "code",
   "execution_count": 15,
   "metadata": {
    "scrolled": true
   },
   "outputs": [
    {
     "data": {
      "image/png": "[encoded data removed]",
      "text/plain": [
       "<Figure size 720x360 with 1 Axes>"
      ]
     },
     "metadata": {
      "needs_background": "light"
     },
     "output_type": "display_data"
    }
   ],
   "source": [
    "Orders_by_Year = []\n",
    "\n",
    "for i, year in enumerate(df.Year_Order.unique()):\n",
    "    Orders_by_Year.append(df[df.Year_Order == year].CategoryName) \n",
    "fig = plt.figure(figsize =(10,5))\n",
    "plt.hist(Orders_by_Year, label =['2012', '2013','2014'])\n",
    "plt.legend()\n",
    "plt.show()\n",
    "#     sns.countplot(x='CategoryName',  data =Orders_by_Year[2012])\n",
    "\n",
    "# sns.countplot(x='CategoryName',  data =Orders_by_Year[2013])   \n",
    "# Orders_by_Year[2012].columns"
   ]
  },
  {
   "cell_type": "code",
   "execution_count": 16,
   "metadata": {},
   "outputs": [
    {
     "data": {
      "text/plain": [
       "count     2155.000000\n",
       "mean       672.560237\n",
       "std       1110.261427\n",
       "min          6.000000\n",
       "25%        170.500000\n",
       "50%        380.000000\n",
       "75%        760.000000\n",
       "max      15810.000000\n",
       "Name: Price_total, dtype: float64"
      ]
     },
     "execution_count": 16,
     "metadata": {},
     "output_type": "execute_result"
    }
   ],
   "source": [
    "df.Price_total.describe()"
   ]
  },
  {
   "cell_type": "code",
   "execution_count": 17,
   "metadata": {
    "scrolled": true
   },
   "outputs": [
    {
     "name": "stderr",
     "output_type": "stream",
     "text": [
      "No handles with labels found to put in legend.\n"
     ]
    },
    {
     "data": {
      "image/png": "[encoded data removed]",
      "text/plain": [
       "<Figure size 720x360 with 1 Axes>"
      ]
     },
     "metadata": {
      "needs_background": "light"
     },
     "output_type": "display_data"
    }
   ],
   "source": [
    "TotalSales_Year = []\n",
    "\n",
    "for i, year in enumerate(df.Year_Order.unique()):\n",
    "    TotalSales_Year.append(sum(df[df.Year_Order == year].Price_total)) \n",
    "fig = plt.figure(figsize =(10,5))\n",
    "sns.barplot(x=['2012', '2013','2014'],y=TotalSales_Year)\n",
    "plt.legend()\n",
    "plt.show()\n",
    "#     sns.countplot(x='CategoryName',  data =Orders_by_Year[2012])\n",
    "\n",
    "# sns.countplot(x='CategoryName',  data =Orders_by_Year[2013])   \n",
    "# Orders_by_Year[2012].columns"
   ]
  },
  {
   "cell_type": "markdown",
   "metadata": {},
   "source": [
    "### Has the total amount of spending per order in average increased over years?\n",
    "Conducting Wech's t-test \n",
    "\n",
    "$H_0$ : The average of total amount of spending per order in one year ($\\mu_1$) and in its previous year ($\\mu_0$) has not changed.\n",
    "$$ \\large\\mu_1 = \\mu_0$$\n",
    "$H_a$ : The average of total amount of spending per order in one year is more than in its previous year. \n",
    "$$ \\large\\mu_1 > \\mu_0$$\n",
    "1) 2013 ($\\mu_1$) vs. 2012 ($\\mu_0$)\n",
    "\n",
    "2) 2014 ($\\mu_1$) vs. 2013 ($\\mu_0$)"
   ]
  },
  {
   "cell_type": "code",
   "execution_count": 18,
   "metadata": {
    "scrolled": true
   },
   "outputs": [
    {
     "name": "stdout",
     "output_type": "stream",
     "text": [
      "2012 Total amount per order\n",
      "count      152.000000\n",
      "mean      1862.137171\n",
      "std       2121.815144\n",
      "min         60.000000\n",
      "25%        559.750000\n",
      "50%       1319.550000\n",
      "75%       2456.062500\n",
      "max      15353.600000\n",
      "Name: Price_total, dtype: float64 \n",
      "\n",
      "2013 Total amount per order\n",
      "count      408.000000\n",
      "mean      1707.233137\n",
      "std       1914.725381\n",
      "min         12.500000\n",
      "25%        518.600000\n",
      "50%       1182.600000\n",
      "75%       2214.187500\n",
      "max      14366.500000\n",
      "Name: Price_total, dtype: float64 \n",
      "\n",
      "2014 Total amount per order\n",
      "count      270.000000\n",
      "mean      1739.893852\n",
      "std       2427.355997\n",
      "min         30.000000\n",
      "25%        508.500000\n",
      "50%        932.025000\n",
      "75%       1959.107500\n",
      "max      17250.000000\n",
      "Name: Price_total, dtype: float64 \n",
      "\n"
     ]
    },
    {
     "name": "stderr",
     "output_type": "stream",
     "text": [
      "C:\\Users\\woogu\\Anaconda3\\envs\\learn-env\\lib\\site-packages\\scipy\\stats\\stats.py:1713: FutureWarning: Using a non-tuple sequence for multidimensional indexing is deprecated; use `arr[tuple(seq)]` instead of `arr[seq]`. In the future this will be interpreted as an array index, `arr[np.array(seq)]`, which will result either in an error or a different result.\n",
      "  return np.add.reduce(sorted[indexer] * weights, axis=axis) / sumval\n"
     ]
    },
    {
     "data": {
      "text/plain": [
       "Text(0.5, 1.0, 'Total Amount Per Order By Year')"
      ]
     },
     "execution_count": 18,
     "metadata": {},
     "output_type": "execute_result"
    },
    {
     "data": {
      "image/png": "[encoded data removed]",
      "text/plain": [
       "<Figure size 432x288 with 1 Axes>"
      ]
     },
     "metadata": {
      "needs_background": "light"
     },
     "output_type": "display_data"
    }
   ],
   "source": [
    "''' do people spend less money per order?\n",
    "    1)Divide df by years\n",
    "    2)Collect by order using OrderId\n",
    "    3)check for outliers\n",
    "    4)conduct Welch's ttest\n",
    "    '''\n",
    "\n",
    "Orders_by_Year ={}\n",
    "Total_per_Order =[]\n",
    "for i, year in enumerate(df.Year_Order.unique()):\n",
    "    Orders_by_Year[year] = df[df.Year_Order == year]\n",
    "    Total_per_Order.append(Orders_by_Year[year].groupby('OrderId').Price_total.sum())\n",
    "    print(year,'Total amount per order')\n",
    "    print(Total_per_Order[i].describe(),'\\n')\n",
    "    sns.distplot(Total_per_Order[i], label = str(year))\n",
    "plt.legend()\n",
    "plt.title('Total amount per order by year'.title())\n",
    " "
   ]
  },
  {
   "cell_type": "code",
   "execution_count": 19,
   "metadata": {
    "scrolled": true
   },
   "outputs": [
    {
     "name": "stdout",
     "output_type": "stream",
     "text": [
      "0.8th percentile:\t2012:2839.33\t2013:2496.75\t2014:2236.04\n",
      "0.81th percentile:\t2012:2854.75\t2013:2558.35\t2014:2352.68\n",
      "0.82th percentile:\t2012:2903.88\t2013:2625.23\t2014:2429.17\n",
      "0.83th percentile:\t2012:2974.91\t2013:2712.4\t2014:2631.75\n",
      "0.84th percentile:\t2012:3087.34\t2013:2763.18\t2014:2737.78\n",
      "0.85th percentile:\t2012:3131.17\t2013:2827.11\t2014:2835.7\n",
      "0.86th percentile:\t2012:3178.46\t2013:2942.18\t2014:2977.4\n",
      "0.87th percentile:\t2012:3273.51\t2013:3121.33\t2014:3108.1\n",
      "0.88th percentile:\t2012:3416.26\t2013:3359.5\t2014:3514.05\n",
      "0.89th percentile:\t2012:3556.28\t2013:3432.97\t2014:3612.7\n",
      "0.9th percentile:\t2012:3622.88\t2013:3626.4\t2014:3743.2\n",
      "0.91th percentile:\t2012:3707.1\t2013:3908.79\t2014:4345.77\n",
      "0.92th percentile:\t2012:3898.5\t2013:4163.23\t2014:4689.64\n",
      "0.93th percentile:\t2012:4219.36\t2013:4331.61\t2014:4776.57\n",
      "0.94th percentile:\t2012:4557.69\t2013:4609.34\t2014:4927.15\n",
      "0.95th percentile:\t2012:4832.37\t2013:4832.81\t2014:5866.64\n",
      "0.96th percentile:\t2012:5190.96\t2013:5193.64\t2014:6580.71\n",
      "0.97th percentile:\t2012:6532.01\t2013:6359.25\t2014:8174.59\n",
      "0.98th percentile:\t2012:7686.55\t2013:7208.53\t2014:10100.8\n",
      "0.99th percentile:\t2012:11293.8\t2013:10189.82\t2014:12829.68\n",
      "1.0th percentile:\t2012:15353.6\t2013:14366.5\t2014:17250.0\n"
     ]
    }
   ],
   "source": [
    "\n",
    "#Investigate Percentiles to investigate outliers \n",
    "for q in np.linspace(0.8,1,num=21):\n",
    "    q2012 = round(Total_per_Order[0].quantile(q=q),2)\n",
    "    q2013 = round(Total_per_Order[1].quantile(q=q),2)\n",
    "    q2014 = round(Total_per_Order[2].quantile(q=q),2)\n",
    "    print('{}th percentile:\\t2012:{}\\t2013:{}\\t2014:{}'.format(round(q,2), q2012, q2013,q2014 ))"
   ]
  },
  {
   "cell_type": "code",
   "execution_count": 20,
   "metadata": {},
   "outputs": [
    {
     "name": "stdout",
     "output_type": "stream",
     "text": [
      "Comparison of the average of total amount of spending  for year 2013 and 2012\n",
      "Median Values: \t2012:1319.55 \t2013:1182.6\n",
      "Mean Values: \ts2012:1862.14 \t2013:1707.23\n",
      "Sample sizes: \t2012:152 \t2013:408\n",
      "Wech's t-test p-value:0.21561018525422626\n"
     ]
    }
   ],
   "source": [
    "\n",
    "print(f'Comparison of the average of total amount of spending  for year 2013 and 2012')\n",
    "print(f'Median Values: \\t2012:{round(Total_per_Order[0].median(),2)} \\t2013:{round(Total_per_Order[1].median(),2)}')\n",
    "print(f'Mean Values: \\ts2012:{round(Total_per_Order[0].mean(),2)} \\t2013:{round(Total_per_Order[1].mean(),2)}')\n",
    "print(f'Sample sizes: \\t2012:{len(Total_per_Order[0])} \\t2013:{len(Total_per_Order[1])}')\n",
    "print(f\"Wech's t-test p-value:{fs.p_value_welch_ttest(Total_per_Order[1],Total_per_Order[0])}\")"
   ]
  },
  {
   "cell_type": "code",
   "execution_count": 21,
   "metadata": {},
   "outputs": [
    {
     "name": "stdout",
     "output_type": "stream",
     "text": [
      "Comparison of the average of total amount of spending  for year 2014 and 2013\n",
      "Median Values: \t2013:1182.6 \t2014:932.02\n",
      "Mean Values: \t2013:1707.23 \t2014:1739.89\n",
      "Sample sizes: \t2013:408 \t2014:270\n",
      "Wech's t-test p-value:0.4262312955523925\n"
     ]
    }
   ],
   "source": [
    "\n",
    "print(f'Comparison of the average of total amount of spending  for year 2014 and 2013')\n",
    "print(f'Median Values: \\t2013:{round(Total_per_Order[1].median(),2)} \\t2014:{round(Total_per_Order[2].median(),2)}')\n",
    "print(f'Mean Values: \\t2013:{round(Total_per_Order[1].mean(),2)} \\t2014:{round(Total_per_Order[2].mean(),2)}')\n",
    "print(f'Sample sizes: \\t2013:{len(Total_per_Order[1])} \\t2014:{len(Total_per_Order[2])}')\n",
    "print(f\"Wech's t-test p-value:{fs.p_value_welch_ttest(Total_per_Order[2],Total_per_Order[1])}\")"
   ]
  },
  {
   "cell_type": "markdown",
   "metadata": {},
   "source": [
    "Using $\\alpha = 0.05$, we fail to reject both null hypotheses. That means, we can't find enough evidence to conclude that there were significant change in how each customer spent per order for those three years.  \n",
    "\n",
    "So far, we see that the total number of sales had increased from 2012 to 2013 then decreased from 2013 to 2014 and it was also consistent in sales by categories. \n",
    "\n",
    "However, we couldn't find enough evidence that changes in the average spending per order was significant.\n"
   ]
  },
  {
   "cell_type": "markdown",
   "metadata": {},
   "source": [
    "### Customer Retention Rate"
   ]
  },
  {
   "cell_type": "markdown",
   "metadata": {},
   "source": [
    "I would like to investigate the retention rate for customers. \n",
    "Divide `CustomerId` into three groups depending on since which year they have made purchases. "
   ]
  },
  {
   "cell_type": "code",
   "execution_count": 22,
   "metadata": {},
   "outputs": [
    {
     "data": {
      "text/plain": [
       "Index(['Id', 'ProductName', 'SupplierId', 'CategoryId', 'QuantityPerUnit',\n",
       "       'UnitPrice', 'UnitsInStock', 'UnitsOnOrder', 'ReorderLevel',\n",
       "       'Discontinued', 'Id_1', 'OrderId', 'ProductId', 'UnitPrice_1',\n",
       "       'Quantity', 'Discount', 'Id_2', 'CategoryName', 'Description', 'Id_3',\n",
       "       'CustomerId', 'EmployeeId', 'OrderDate', 'RequiredDate', 'ShippedDate',\n",
       "       'ShipVia', 'Freight', 'ShipName', 'ShipAddress', 'ShipCity',\n",
       "       'ShipRegion', 'ShipPostalCode', 'ShipCountry', 'Price_total',\n",
       "       'Year_Order'],\n",
       "      dtype='object')"
      ]
     },
     "execution_count": 22,
     "metadata": {},
     "output_type": "execute_result"
    }
   ],
   "source": [
    "df.columns"
   ]
  },
  {
   "cell_type": "code",
   "execution_count": 23,
   "metadata": {},
   "outputs": [
    {
     "data": {
      "text/html": [
       "<div>\n",
       "<style scoped>\n",
       "    .dataframe tbody tr th:only-of-type {\n",
       "        vertical-align: middle;\n",
       "    }\n",
       "\n",
       "    .dataframe tbody tr th {\n",
       "        vertical-align: top;\n",
       "    }\n",
       "\n",
       "    .dataframe thead th {\n",
       "        text-align: right;\n",
       "    }\n",
       "</style>\n",
       "<table border=\"1\" class=\"dataframe\">\n",
       "  <thead>\n",
       "    <tr style=\"text-align: right;\">\n",
       "      <th></th>\n",
       "      <th>CustomerId</th>\n",
       "      <th>Year_Order</th>\n",
       "      <th>Order_Counts</th>\n",
       "      <th>Total$</th>\n",
       "    </tr>\n",
       "  </thead>\n",
       "  <tbody>\n",
       "    <tr>\n",
       "      <th>0</th>\n",
       "      <td>ALFKI</td>\n",
       "      <td>2013</td>\n",
       "      <td>3</td>\n",
       "      <td>2294.00</td>\n",
       "    </tr>\n",
       "    <tr>\n",
       "      <th>1</th>\n",
       "      <td>ALFKI</td>\n",
       "      <td>2014</td>\n",
       "      <td>3</td>\n",
       "      <td>2302.20</td>\n",
       "    </tr>\n",
       "    <tr>\n",
       "      <th>2</th>\n",
       "      <td>ANATR</td>\n",
       "      <td>2012</td>\n",
       "      <td>1</td>\n",
       "      <td>111.00</td>\n",
       "    </tr>\n",
       "    <tr>\n",
       "      <th>3</th>\n",
       "      <td>ANATR</td>\n",
       "      <td>2013</td>\n",
       "      <td>2</td>\n",
       "      <td>799.75</td>\n",
       "    </tr>\n",
       "    <tr>\n",
       "      <th>4</th>\n",
       "      <td>ANATR</td>\n",
       "      <td>2014</td>\n",
       "      <td>1</td>\n",
       "      <td>514.40</td>\n",
       "    </tr>\n",
       "  </tbody>\n",
       "</table>\n",
       "</div>"
      ],
      "text/plain": [
       "  CustomerId  Year_Order  Order_Counts   Total$\n",
       "0      ALFKI        2013             3  2294.00\n",
       "1      ALFKI        2014             3  2302.20\n",
       "2      ANATR        2012             1   111.00\n",
       "3      ANATR        2013             2   799.75\n",
       "4      ANATR        2014             1   514.40"
      ]
     },
     "execution_count": 23,
     "metadata": {},
     "output_type": "execute_result"
    }
   ],
   "source": [
    "query =\"\"\"\n",
    "            SELECT CustomerId, Year_Order, COUNT(DISTINCT(OrderId)) as Order_Counts, SUM(Price_total) as Total$\n",
    "            FROM df\n",
    "            GROUP BY 1,2\n",
    "            \"\"\"\n",
    "customers = pysqldf(query)\n",
    "customers.head()\n",
    "# df.groupby(['CustomerId','Year_Order']).OrderId.count()"
   ]
  },
  {
   "cell_type": "code",
   "execution_count": 24,
   "metadata": {
    "scrolled": true
   },
   "outputs": [
    {
     "name": "stdout",
     "output_type": "stream",
     "text": [
      "There are 3 columns with name:Year_Order\n",
      "There are 3 columns with name:Order_Counts\n",
      "There are 3 columns with name:Total$\n"
     ]
    },
    {
     "name": "stderr",
     "output_type": "stream",
     "text": [
      "C:\\Users\\woogu\\Anaconda3\\envs\\learn-env\\lib\\site-packages\\ipykernel_launcher.py:15: FutureWarning: 'get_duplicates' is deprecated and will be removed in a future release. You can use idx[idx.duplicated()].unique() instead\n",
      "  from ipykernel import kernelapp as app\n",
      "C:\\Users\\woogu\\Anaconda3\\envs\\learn-env\\lib\\site-packages\\ipykernel_launcher.py:16: FutureWarning: 'get_duplicates' is deprecated and will be removed in a future release. You can use idx[idx.duplicated()].unique() instead\n",
      "  app.launch_new_instance()\n"
     ]
    },
    {
     "data": {
      "text/html": [
       "<div>\n",
       "<style scoped>\n",
       "    .dataframe tbody tr th:only-of-type {\n",
       "        vertical-align: middle;\n",
       "    }\n",
       "\n",
       "    .dataframe tbody tr th {\n",
       "        vertical-align: top;\n",
       "    }\n",
       "\n",
       "    .dataframe thead th {\n",
       "        text-align: right;\n",
       "    }\n",
       "</style>\n",
       "<table border=\"1\" class=\"dataframe\">\n",
       "  <thead>\n",
       "    <tr style=\"text-align: right;\">\n",
       "      <th></th>\n",
       "      <th>CustomerId</th>\n",
       "      <th>Year_Order</th>\n",
       "      <th>Order_Counts</th>\n",
       "      <th>Total$</th>\n",
       "      <th>Year_Order_1</th>\n",
       "      <th>Order_Counts_1</th>\n",
       "      <th>Total$_1</th>\n",
       "      <th>Year_Order_2</th>\n",
       "      <th>Order_Counts_2</th>\n",
       "      <th>Total$_2</th>\n",
       "    </tr>\n",
       "  </thead>\n",
       "  <tbody>\n",
       "    <tr>\n",
       "      <th>0</th>\n",
       "      <td>ALFKI</td>\n",
       "      <td>2014</td>\n",
       "      <td>3</td>\n",
       "      <td>2302.20</td>\n",
       "      <td>2013.0</td>\n",
       "      <td>3.0</td>\n",
       "      <td>2294.00</td>\n",
       "      <td>NaN</td>\n",
       "      <td>NaN</td>\n",
       "      <td>NaN</td>\n",
       "    </tr>\n",
       "    <tr>\n",
       "      <th>1</th>\n",
       "      <td>ANATR</td>\n",
       "      <td>2014</td>\n",
       "      <td>1</td>\n",
       "      <td>514.40</td>\n",
       "      <td>2013.0</td>\n",
       "      <td>2.0</td>\n",
       "      <td>799.75</td>\n",
       "      <td>2012.0</td>\n",
       "      <td>1.0</td>\n",
       "      <td>111.00</td>\n",
       "    </tr>\n",
       "    <tr>\n",
       "      <th>2</th>\n",
       "      <td>ANTO</td>\n",
       "      <td>2014</td>\n",
       "      <td>1</td>\n",
       "      <td>660.00</td>\n",
       "      <td>2013.0</td>\n",
       "      <td>5.0</td>\n",
       "      <td>6452.15</td>\n",
       "      <td>2012.0</td>\n",
       "      <td>1.0</td>\n",
       "      <td>504.00</td>\n",
       "    </tr>\n",
       "    <tr>\n",
       "      <th>3</th>\n",
       "      <td>AROUT</td>\n",
       "      <td>2014</td>\n",
       "      <td>4</td>\n",
       "      <td>5838.50</td>\n",
       "      <td>2013.0</td>\n",
       "      <td>7.0</td>\n",
       "      <td>6702.25</td>\n",
       "      <td>2012.0</td>\n",
       "      <td>2.0</td>\n",
       "      <td>1723.75</td>\n",
       "    </tr>\n",
       "    <tr>\n",
       "      <th>4</th>\n",
       "      <td>BERGS</td>\n",
       "      <td>2014</td>\n",
       "      <td>5</td>\n",
       "      <td>8110.55</td>\n",
       "      <td>2013.0</td>\n",
       "      <td>10.0</td>\n",
       "      <td>14838.30</td>\n",
       "      <td>2012.0</td>\n",
       "      <td>3.0</td>\n",
       "      <td>5406.90</td>\n",
       "    </tr>\n",
       "  </tbody>\n",
       "</table>\n",
       "</div>"
      ],
      "text/plain": [
       "  CustomerId  Year_Order  Order_Counts   Total$  Year_Order_1  Order_Counts_1  \\\n",
       "0      ALFKI        2014             3  2302.20        2013.0             3.0   \n",
       "1      ANATR        2014             1   514.40        2013.0             2.0   \n",
       "2       ANTO        2014             1   660.00        2013.0             5.0   \n",
       "3      AROUT        2014             4  5838.50        2013.0             7.0   \n",
       "4      BERGS        2014             5  8110.55        2013.0            10.0   \n",
       "\n",
       "   Total$_1  Year_Order_2  Order_Counts_2  Total$_2  \n",
       "0   2294.00           NaN             NaN       NaN  \n",
       "1    799.75        2012.0             1.0    111.00  \n",
       "2   6452.15        2012.0             1.0    504.00  \n",
       "3   6702.25        2012.0             2.0   1723.75  \n",
       "4  14838.30        2012.0             3.0   5406.90  "
      ]
     },
     "execution_count": 24,
     "metadata": {},
     "output_type": "execute_result"
    }
   ],
   "source": [
    "c12 = customers.query('Year_Order == 2012')\n",
    "c13 = customers.query('Year_Order == 2013')\n",
    "c14 = customers.query('Year_Order == 2014')\n",
    "q = \"\"\"SELECT * \n",
    "        FROM c14 \n",
    "        LEFT JOIN c13 USING(CustomerId)\n",
    "        LEFT JOIN c12 using(CustomerId)\"\"\"\n",
    "customer_history = pysqldf(q)\n",
    "customer_history.columns = rename_dup_columns(customer_history)\n",
    "customer_history.head()"
   ]
  },
  {
   "cell_type": "code",
   "execution_count": 25,
   "metadata": {},
   "outputs": [],
   "source": [
    "customer_history.Year_Order_1.fillna(2013, inplace =True)\n",
    "customer_history.Order_Counts_1.fillna(0,inplace =True)\n",
    "customer_history['Total$_1'].fillna(0,inplace = True)\n",
    "customer_history.Year_Order_2.fillna(2012, inplace =True)\n",
    "customer_history.Order_Counts_2.fillna(0,inplace =True)\n",
    "customer_history['Total$_2'].fillna(0,inplace = True)"
   ]
  },
  {
   "cell_type": "code",
   "execution_count": 26,
   "metadata": {},
   "outputs": [
    {
     "data": {
      "text/html": [
       "<div>\n",
       "<style scoped>\n",
       "    .dataframe tbody tr th:only-of-type {\n",
       "        vertical-align: middle;\n",
       "    }\n",
       "\n",
       "    .dataframe tbody tr th {\n",
       "        vertical-align: top;\n",
       "    }\n",
       "\n",
       "    .dataframe thead th {\n",
       "        text-align: right;\n",
       "    }\n",
       "</style>\n",
       "<table border=\"1\" class=\"dataframe\">\n",
       "  <thead>\n",
       "    <tr style=\"text-align: right;\">\n",
       "      <th></th>\n",
       "      <th>Year_Order</th>\n",
       "      <th>Order_Counts</th>\n",
       "      <th>Total$</th>\n",
       "      <th>Year_Order_1</th>\n",
       "      <th>Order_Counts_1</th>\n",
       "      <th>Total$_1</th>\n",
       "      <th>Year_Order_2</th>\n",
       "      <th>Order_Counts_2</th>\n",
       "      <th>Total$_2</th>\n",
       "    </tr>\n",
       "  </thead>\n",
       "  <tbody>\n",
       "    <tr>\n",
       "      <th>count</th>\n",
       "      <td>81.0</td>\n",
       "      <td>81.000000</td>\n",
       "      <td>81.000000</td>\n",
       "      <td>81.0</td>\n",
       "      <td>81.000000</td>\n",
       "      <td>81.000000</td>\n",
       "      <td>81.0</td>\n",
       "      <td>81.000000</td>\n",
       "      <td>81.000000</td>\n",
       "    </tr>\n",
       "    <tr>\n",
       "      <th>mean</th>\n",
       "      <td>2014.0</td>\n",
       "      <td>3.333333</td>\n",
       "      <td>5799.646173</td>\n",
       "      <td>2013.0</td>\n",
       "      <td>4.691358</td>\n",
       "      <td>8002.248395</td>\n",
       "      <td>2012.0</td>\n",
       "      <td>1.728395</td>\n",
       "      <td>3335.295062</td>\n",
       "    </tr>\n",
       "    <tr>\n",
       "      <th>std</th>\n",
       "      <td>0.0</td>\n",
       "      <td>2.207940</td>\n",
       "      <td>8925.907057</td>\n",
       "      <td>0.0</td>\n",
       "      <td>3.231261</td>\n",
       "      <td>11891.984784</td>\n",
       "      <td>0.0</td>\n",
       "      <td>1.573311</td>\n",
       "      <td>4780.881599</td>\n",
       "    </tr>\n",
       "    <tr>\n",
       "      <th>min</th>\n",
       "      <td>2014.0</td>\n",
       "      <td>1.000000</td>\n",
       "      <td>45.000000</td>\n",
       "      <td>2013.0</td>\n",
       "      <td>0.000000</td>\n",
       "      <td>0.000000</td>\n",
       "      <td>2012.0</td>\n",
       "      <td>0.000000</td>\n",
       "      <td>0.000000</td>\n",
       "    </tr>\n",
       "    <tr>\n",
       "      <th>25%</th>\n",
       "      <td>2014.0</td>\n",
       "      <td>1.000000</td>\n",
       "      <td>1117.000000</td>\n",
       "      <td>2013.0</td>\n",
       "      <td>2.000000</td>\n",
       "      <td>1410.000000</td>\n",
       "      <td>2012.0</td>\n",
       "      <td>1.000000</td>\n",
       "      <td>111.000000</td>\n",
       "    </tr>\n",
       "    <tr>\n",
       "      <th>50%</th>\n",
       "      <td>2014.0</td>\n",
       "      <td>3.000000</td>\n",
       "      <td>2371.000000</td>\n",
       "      <td>2013.0</td>\n",
       "      <td>4.000000</td>\n",
       "      <td>5217.650000</td>\n",
       "      <td>2012.0</td>\n",
       "      <td>1.000000</td>\n",
       "      <td>1450.000000</td>\n",
       "    </tr>\n",
       "    <tr>\n",
       "      <th>75%</th>\n",
       "      <td>2014.0</td>\n",
       "      <td>4.000000</td>\n",
       "      <td>5994.060000</td>\n",
       "      <td>2013.0</td>\n",
       "      <td>6.000000</td>\n",
       "      <td>9860.450000</td>\n",
       "      <td>2012.0</td>\n",
       "      <td>3.000000</td>\n",
       "      <td>4269.400000</td>\n",
       "    </tr>\n",
       "    <tr>\n",
       "      <th>max</th>\n",
       "      <td>2014.0</td>\n",
       "      <td>11.000000</td>\n",
       "      <td>42806.250000</td>\n",
       "      <td>2013.0</td>\n",
       "      <td>17.000000</td>\n",
       "      <td>65762.450000</td>\n",
       "      <td>2012.0</td>\n",
       "      <td>6.000000</td>\n",
       "      <td>21487.760000</td>\n",
       "    </tr>\n",
       "  </tbody>\n",
       "</table>\n",
       "</div>"
      ],
      "text/plain": [
       "       Year_Order  Order_Counts        Total$  Year_Order_1  Order_Counts_1  \\\n",
       "count        81.0     81.000000     81.000000          81.0       81.000000   \n",
       "mean       2014.0      3.333333   5799.646173        2013.0        4.691358   \n",
       "std           0.0      2.207940   8925.907057           0.0        3.231261   \n",
       "min        2014.0      1.000000     45.000000        2013.0        0.000000   \n",
       "25%        2014.0      1.000000   1117.000000        2013.0        2.000000   \n",
       "50%        2014.0      3.000000   2371.000000        2013.0        4.000000   \n",
       "75%        2014.0      4.000000   5994.060000        2013.0        6.000000   \n",
       "max        2014.0     11.000000  42806.250000        2013.0       17.000000   \n",
       "\n",
       "           Total$_1  Year_Order_2  Order_Counts_2      Total$_2  \n",
       "count     81.000000          81.0       81.000000     81.000000  \n",
       "mean    8002.248395        2012.0        1.728395   3335.295062  \n",
       "std    11891.984784           0.0        1.573311   4780.881599  \n",
       "min        0.000000        2012.0        0.000000      0.000000  \n",
       "25%     1410.000000        2012.0        1.000000    111.000000  \n",
       "50%     5217.650000        2012.0        1.000000   1450.000000  \n",
       "75%     9860.450000        2012.0        3.000000   4269.400000  \n",
       "max    65762.450000        2012.0        6.000000  21487.760000  "
      ]
     },
     "execution_count": 26,
     "metadata": {},
     "output_type": "execute_result"
    }
   ],
   "source": [
    "customer_history.describe()"
   ]
  },
  {
   "cell_type": "code",
   "execution_count": 61,
   "metadata": {},
   "outputs": [
    {
     "name": "stdout",
     "output_type": "stream",
     "text": [
      "There are 1 new customers in 2014.\n"
     ]
    }
   ],
   "source": [
    "new_2014 = customer_history.query('Order_Counts_2 ==0 &Order_Counts_1 ==0 ')\n",
    "print(f'There are {len(new_2014)} new customers in 2014.')"
   ]
  },
  {
   "cell_type": "code",
   "execution_count": 28,
   "metadata": {
    "scrolled": true
   },
   "outputs": [
    {
     "data": {
      "text/html": [
       "<div>\n",
       "<style scoped>\n",
       "    .dataframe tbody tr th:only-of-type {\n",
       "        vertical-align: middle;\n",
       "    }\n",
       "\n",
       "    .dataframe tbody tr th {\n",
       "        vertical-align: top;\n",
       "    }\n",
       "\n",
       "    .dataframe thead th {\n",
       "        text-align: right;\n",
       "    }\n",
       "</style>\n",
       "<table border=\"1\" class=\"dataframe\">\n",
       "  <thead>\n",
       "    <tr style=\"text-align: right;\">\n",
       "      <th></th>\n",
       "      <th>CustomerId</th>\n",
       "      <th>Year_Order</th>\n",
       "      <th>Order_Counts</th>\n",
       "      <th>Total$</th>\n",
       "      <th>Year_Order_1</th>\n",
       "      <th>Order_Counts_1</th>\n",
       "      <th>Total$_1</th>\n",
       "      <th>Year_Order_2</th>\n",
       "      <th>Order_Counts_2</th>\n",
       "      <th>Total$_2</th>\n",
       "    </tr>\n",
       "  </thead>\n",
       "  <tbody>\n",
       "    <tr>\n",
       "      <th>0</th>\n",
       "      <td>ALFKI</td>\n",
       "      <td>2014</td>\n",
       "      <td>3</td>\n",
       "      <td>2302.20</td>\n",
       "      <td>2013.0</td>\n",
       "      <td>3.0</td>\n",
       "      <td>2294.00</td>\n",
       "      <td>2012.0</td>\n",
       "      <td>0.0</td>\n",
       "      <td>0.0</td>\n",
       "    </tr>\n",
       "    <tr>\n",
       "      <th>5</th>\n",
       "      <td>BLAUS</td>\n",
       "      <td>2014</td>\n",
       "      <td>3</td>\n",
       "      <td>2160.00</td>\n",
       "      <td>2013.0</td>\n",
       "      <td>4.0</td>\n",
       "      <td>1079.80</td>\n",
       "      <td>2012.0</td>\n",
       "      <td>0.0</td>\n",
       "      <td>0.0</td>\n",
       "    </tr>\n",
       "    <tr>\n",
       "      <th>11</th>\n",
       "      <td>CACTU</td>\n",
       "      <td>2014</td>\n",
       "      <td>4</td>\n",
       "      <td>1576.80</td>\n",
       "      <td>2013.0</td>\n",
       "      <td>2.0</td>\n",
       "      <td>238.00</td>\n",
       "      <td>2012.0</td>\n",
       "      <td>0.0</td>\n",
       "      <td>0.0</td>\n",
       "    </tr>\n",
       "    <tr>\n",
       "      <th>14</th>\n",
       "      <td>CONSH</td>\n",
       "      <td>2014</td>\n",
       "      <td>1</td>\n",
       "      <td>931.50</td>\n",
       "      <td>2013.0</td>\n",
       "      <td>2.0</td>\n",
       "      <td>985.00</td>\n",
       "      <td>2012.0</td>\n",
       "      <td>0.0</td>\n",
       "      <td>0.0</td>\n",
       "    </tr>\n",
       "    <tr>\n",
       "      <th>21</th>\n",
       "      <td>FRANR</td>\n",
       "      <td>2014</td>\n",
       "      <td>2</td>\n",
       "      <td>2252.06</td>\n",
       "      <td>2013.0</td>\n",
       "      <td>1.0</td>\n",
       "      <td>920.10</td>\n",
       "      <td>2012.0</td>\n",
       "      <td>0.0</td>\n",
       "      <td>0.0</td>\n",
       "    </tr>\n",
       "    <tr>\n",
       "      <th>22</th>\n",
       "      <td>FRANS</td>\n",
       "      <td>2014</td>\n",
       "      <td>2</td>\n",
       "      <td>1296.00</td>\n",
       "      <td>2013.0</td>\n",
       "      <td>4.0</td>\n",
       "      <td>262.36</td>\n",
       "      <td>2012.0</td>\n",
       "      <td>0.0</td>\n",
       "      <td>0.0</td>\n",
       "    </tr>\n",
       "    <tr>\n",
       "      <th>26</th>\n",
       "      <td>GOURL</td>\n",
       "      <td>2014</td>\n",
       "      <td>2</td>\n",
       "      <td>497.00</td>\n",
       "      <td>2013.0</td>\n",
       "      <td>7.0</td>\n",
       "      <td>8460.23</td>\n",
       "      <td>2012.0</td>\n",
       "      <td>0.0</td>\n",
       "      <td>0.0</td>\n",
       "    </tr>\n",
       "    <tr>\n",
       "      <th>27</th>\n",
       "      <td>GREAL</td>\n",
       "      <td>2014</td>\n",
       "      <td>5</td>\n",
       "      <td>10562.58</td>\n",
       "      <td>2013.0</td>\n",
       "      <td>6.0</td>\n",
       "      <td>9148.55</td>\n",
       "      <td>2012.0</td>\n",
       "      <td>0.0</td>\n",
       "      <td>0.0</td>\n",
       "    </tr>\n",
       "    <tr>\n",
       "      <th>35</th>\n",
       "      <td>LAUGB</td>\n",
       "      <td>2014</td>\n",
       "      <td>1</td>\n",
       "      <td>187.00</td>\n",
       "      <td>2013.0</td>\n",
       "      <td>2.0</td>\n",
       "      <td>405.50</td>\n",
       "      <td>2012.0</td>\n",
       "      <td>0.0</td>\n",
       "      <td>0.0</td>\n",
       "    </tr>\n",
       "    <tr>\n",
       "      <th>37</th>\n",
       "      <td>LETSS</td>\n",
       "      <td>2014</td>\n",
       "      <td>1</td>\n",
       "      <td>1450.60</td>\n",
       "      <td>2013.0</td>\n",
       "      <td>3.0</td>\n",
       "      <td>2039.42</td>\n",
       "      <td>2012.0</td>\n",
       "      <td>0.0</td>\n",
       "      <td>0.0</td>\n",
       "    </tr>\n",
       "    <tr>\n",
       "      <th>39</th>\n",
       "      <td>LINOD</td>\n",
       "      <td>2014</td>\n",
       "      <td>7</td>\n",
       "      <td>10085.60</td>\n",
       "      <td>2013.0</td>\n",
       "      <td>5.0</td>\n",
       "      <td>8343.95</td>\n",
       "      <td>2012.0</td>\n",
       "      <td>0.0</td>\n",
       "      <td>0.0</td>\n",
       "    </tr>\n",
       "    <tr>\n",
       "      <th>42</th>\n",
       "      <td>MAISD</td>\n",
       "      <td>2014</td>\n",
       "      <td>4</td>\n",
       "      <td>4746.58</td>\n",
       "      <td>2013.0</td>\n",
       "      <td>3.0</td>\n",
       "      <td>5684.00</td>\n",
       "      <td>2012.0</td>\n",
       "      <td>0.0</td>\n",
       "      <td>0.0</td>\n",
       "    </tr>\n",
       "    <tr>\n",
       "      <th>44</th>\n",
       "      <td>NORTS</td>\n",
       "      <td>2014</td>\n",
       "      <td>1</td>\n",
       "      <td>45.00</td>\n",
       "      <td>2013.0</td>\n",
       "      <td>2.0</td>\n",
       "      <td>604.00</td>\n",
       "      <td>2012.0</td>\n",
       "      <td>0.0</td>\n",
       "      <td>0.0</td>\n",
       "    </tr>\n",
       "    <tr>\n",
       "      <th>45</th>\n",
       "      <td>OCEA</td>\n",
       "      <td>2014</td>\n",
       "      <td>3</td>\n",
       "      <td>3031.00</td>\n",
       "      <td>2013.0</td>\n",
       "      <td>2.0</td>\n",
       "      <td>509.00</td>\n",
       "      <td>2012.0</td>\n",
       "      <td>0.0</td>\n",
       "      <td>0.0</td>\n",
       "    </tr>\n",
       "    <tr>\n",
       "      <th>54</th>\n",
       "      <td>RANCH</td>\n",
       "      <td>2014</td>\n",
       "      <td>3</td>\n",
       "      <td>1694.70</td>\n",
       "      <td>2013.0</td>\n",
       "      <td>2.0</td>\n",
       "      <td>1261.38</td>\n",
       "      <td>2012.0</td>\n",
       "      <td>0.0</td>\n",
       "      <td>0.0</td>\n",
       "    </tr>\n",
       "    <tr>\n",
       "      <th>64</th>\n",
       "      <td>SPECD</td>\n",
       "      <td>2014</td>\n",
       "      <td>3</td>\n",
       "      <td>2371.00</td>\n",
       "      <td>2013.0</td>\n",
       "      <td>1.0</td>\n",
       "      <td>52.35</td>\n",
       "      <td>2012.0</td>\n",
       "      <td>0.0</td>\n",
       "      <td>0.0</td>\n",
       "    </tr>\n",
       "    <tr>\n",
       "      <th>68</th>\n",
       "      <td>THECR</td>\n",
       "      <td>2014</td>\n",
       "      <td>1</td>\n",
       "      <td>326.00</td>\n",
       "      <td>2013.0</td>\n",
       "      <td>2.0</td>\n",
       "      <td>1621.24</td>\n",
       "      <td>2012.0</td>\n",
       "      <td>0.0</td>\n",
       "      <td>0.0</td>\n",
       "    </tr>\n",
       "    <tr>\n",
       "      <th>72</th>\n",
       "      <td>TRAIH</td>\n",
       "      <td>2014</td>\n",
       "      <td>1</td>\n",
       "      <td>237.90</td>\n",
       "      <td>2013.0</td>\n",
       "      <td>2.0</td>\n",
       "      <td>1333.30</td>\n",
       "      <td>2012.0</td>\n",
       "      <td>0.0</td>\n",
       "      <td>0.0</td>\n",
       "    </tr>\n",
       "    <tr>\n",
       "      <th>79</th>\n",
       "      <td>WILMK</td>\n",
       "      <td>2014</td>\n",
       "      <td>4</td>\n",
       "      <td>1987.00</td>\n",
       "      <td>2013.0</td>\n",
       "      <td>3.0</td>\n",
       "      <td>1174.35</td>\n",
       "      <td>2012.0</td>\n",
       "      <td>0.0</td>\n",
       "      <td>0.0</td>\n",
       "    </tr>\n",
       "  </tbody>\n",
       "</table>\n",
       "</div>"
      ],
      "text/plain": [
       "   CustomerId  Year_Order  Order_Counts    Total$  Year_Order_1  \\\n",
       "0       ALFKI        2014             3   2302.20        2013.0   \n",
       "5       BLAUS        2014             3   2160.00        2013.0   \n",
       "11      CACTU        2014             4   1576.80        2013.0   \n",
       "14      CONSH        2014             1    931.50        2013.0   \n",
       "21      FRANR        2014             2   2252.06        2013.0   \n",
       "22      FRANS        2014             2   1296.00        2013.0   \n",
       "26      GOURL        2014             2    497.00        2013.0   \n",
       "27      GREAL        2014             5  10562.58        2013.0   \n",
       "35      LAUGB        2014             1    187.00        2013.0   \n",
       "37      LETSS        2014             1   1450.60        2013.0   \n",
       "39      LINOD        2014             7  10085.60        2013.0   \n",
       "42      MAISD        2014             4   4746.58        2013.0   \n",
       "44      NORTS        2014             1     45.00        2013.0   \n",
       "45       OCEA        2014             3   3031.00        2013.0   \n",
       "54      RANCH        2014             3   1694.70        2013.0   \n",
       "64      SPECD        2014             3   2371.00        2013.0   \n",
       "68      THECR        2014             1    326.00        2013.0   \n",
       "72      TRAIH        2014             1    237.90        2013.0   \n",
       "79      WILMK        2014             4   1987.00        2013.0   \n",
       "\n",
       "    Order_Counts_1  Total$_1  Year_Order_2  Order_Counts_2  Total$_2  \n",
       "0              3.0   2294.00        2012.0             0.0       0.0  \n",
       "5              4.0   1079.80        2012.0             0.0       0.0  \n",
       "11             2.0    238.00        2012.0             0.0       0.0  \n",
       "14             2.0    985.00        2012.0             0.0       0.0  \n",
       "21             1.0    920.10        2012.0             0.0       0.0  \n",
       "22             4.0    262.36        2012.0             0.0       0.0  \n",
       "26             7.0   8460.23        2012.0             0.0       0.0  \n",
       "27             6.0   9148.55        2012.0             0.0       0.0  \n",
       "35             2.0    405.50        2012.0             0.0       0.0  \n",
       "37             3.0   2039.42        2012.0             0.0       0.0  \n",
       "39             5.0   8343.95        2012.0             0.0       0.0  \n",
       "42             3.0   5684.00        2012.0             0.0       0.0  \n",
       "44             2.0    604.00        2012.0             0.0       0.0  \n",
       "45             2.0    509.00        2012.0             0.0       0.0  \n",
       "54             2.0   1261.38        2012.0             0.0       0.0  \n",
       "64             1.0     52.35        2012.0             0.0       0.0  \n",
       "68             2.0   1621.24        2012.0             0.0       0.0  \n",
       "72             2.0   1333.30        2012.0             0.0       0.0  \n",
       "79             3.0   1174.35        2012.0             0.0       0.0  "
      ]
     },
     "execution_count": 28,
     "metadata": {},
     "output_type": "execute_result"
    }
   ],
   "source": [
    "customer_history.query('Order_Counts_2 ==0 &Order_Counts_1 !=0 ')"
   ]
  },
  {
   "cell_type": "code",
   "execution_count": 91,
   "metadata": {},
   "outputs": [
    {
     "name": "stdout",
     "output_type": "stream",
     "text": [
      "There are 19 new customers in 2013.\n"
     ]
    }
   ],
   "source": [
    "new_2013 = customer_history.query('Order_Counts_2 ==0 &Order_Counts_1 !=0 ')\n",
    "print(f'There are {len(new_2013)} new customers in 2013.')"
   ]
  },
  {
   "cell_type": "code",
   "execution_count": 57,
   "metadata": {},
   "outputs": [
    {
     "name": "stdout",
     "output_type": "stream",
     "text": [
      "There is 0 churn rate in 2013.\n"
     ]
    }
   ],
   "source": [
    "churn_2013 = customer_history.query('Order_Counts_2 !=0 &Order_Counts_1 ==0 & Order_Counts==0')\n",
    "print(f'There is {len(churn_2013)} churn rate in 2013.' )"
   ]
  },
  {
   "cell_type": "code",
   "execution_count": 69,
   "metadata": {
    "scrolled": true
   },
   "outputs": [
    {
     "name": "stdout",
     "output_type": "stream",
     "text": [
      "There is 0 churn rate in 2013.\n"
     ]
    }
   ],
   "source": [
    "churn_2014= customer_history.query('Order_Counts==0')\n",
    "print(f'There is {len(churn_2014)} churn rate in 2013.' )"
   ]
  },
  {
   "cell_type": "code",
   "execution_count": 83,
   "metadata": {},
   "outputs": [
    {
     "name": "stdout",
     "output_type": "stream",
     "text": [
      "<class 'pandas.core.frame.DataFrame'>\n",
      "RangeIndex: 81 entries, 0 to 80\n",
      "Data columns (total 10 columns):\n",
      "CustomerId        81 non-null object\n",
      "Year_Order        81 non-null int64\n",
      "Order_Counts      81 non-null int64\n",
      "Total$            81 non-null float64\n",
      "Year_Order_1      81 non-null float64\n",
      "Order_Counts_1    81 non-null float64\n",
      "Total$_1          81 non-null float64\n",
      "Year_Order_2      81 non-null float64\n",
      "Order_Counts_2    81 non-null float64\n",
      "Total$_2          81 non-null float64\n",
      "dtypes: float64(7), int64(2), object(1)\n",
      "memory usage: 6.4+ KB\n"
     ]
    }
   ],
   "source": [
    "customer_history.info()"
   ]
  },
  {
   "cell_type": "code",
   "execution_count": 93,
   "metadata": {},
   "outputs": [
    {
     "name": "stdout",
     "output_type": "stream",
     "text": [
      "The retention rate in 2014 is 100.0%\n"
     ]
    }
   ],
   "source": [
    "customer_counts_2014 = len(customer_history.query('Order_Counts !=0'))\n",
    "customer_counts_2013 = len(customer_history.query('Order_Counts_1 !=0 | Order_Counts_2 !=0 '))\n",
    "retention_rate2014= round((customer_counts_2014 - len(new_2014))/customer_counts_2013*100,2)\n",
    "print(f'The retention rate in 2014 is {retention_rate2014}%' )"
   ]
  },
  {
   "cell_type": "code",
   "execution_count": 101,
   "metadata": {},
   "outputs": [
    {
     "name": "stdout",
     "output_type": "stream",
     "text": [
      "The retention rate in 2013 is 98.36%\n"
     ]
    }
   ],
   "source": [
    "customer_counts_2013 = len(customer_history.query('Order_Counts_1 !=0'))\n",
    "customer_counts_2012 = len(customer_history.query('Order_Counts_2 !=0  '))\n",
    "retention_rate2013= round((customer_counts_2013 - len(new_2013))/customer_counts_2012*100,2)\n",
    "print(f'The retention rate in 2013 is {retention_rate2013}%' )"
   ]
  },
  {
   "cell_type": "code",
   "execution_count": 97,
   "metadata": {},
   "outputs": [
    {
     "data": {
      "text/html": [
       "<div>\n",
       "<style scoped>\n",
       "    .dataframe tbody tr th:only-of-type {\n",
       "        vertical-align: middle;\n",
       "    }\n",
       "\n",
       "    .dataframe tbody tr th {\n",
       "        vertical-align: top;\n",
       "    }\n",
       "\n",
       "    .dataframe thead th {\n",
       "        text-align: right;\n",
       "    }\n",
       "</style>\n",
       "<table border=\"1\" class=\"dataframe\">\n",
       "  <thead>\n",
       "    <tr style=\"text-align: right;\">\n",
       "      <th></th>\n",
       "      <th>CustomerId</th>\n",
       "      <th>Year_Order</th>\n",
       "      <th>Order_Counts</th>\n",
       "      <th>Total$</th>\n",
       "      <th>Year_Order_1</th>\n",
       "      <th>Order_Counts_1</th>\n",
       "      <th>Total$_1</th>\n",
       "      <th>Year_Order_2</th>\n",
       "      <th>Order_Counts_2</th>\n",
       "      <th>Total$_2</th>\n",
       "    </tr>\n",
       "  </thead>\n",
       "  <tbody>\n",
       "    <tr>\n",
       "      <th>59</th>\n",
       "      <td>ROMEY</td>\n",
       "      <td>2014</td>\n",
       "      <td>2</td>\n",
       "      <td>726.89</td>\n",
       "      <td>2013.0</td>\n",
       "      <td>0.0</td>\n",
       "      <td>0.0</td>\n",
       "      <td>2012.0</td>\n",
       "      <td>3.0</td>\n",
       "      <td>926.69</td>\n",
       "    </tr>\n",
       "  </tbody>\n",
       "</table>\n",
       "</div>"
      ],
      "text/plain": [
       "   CustomerId  Year_Order  Order_Counts  Total$  Year_Order_1  Order_Counts_1  \\\n",
       "59      ROMEY        2014             2  726.89        2013.0             0.0   \n",
       "\n",
       "    Total$_1  Year_Order_2  Order_Counts_2  Total$_2  \n",
       "59       0.0        2012.0             3.0    926.69  "
      ]
     },
     "execution_count": 97,
     "metadata": {},
     "output_type": "execute_result"
    }
   ],
   "source": [
    "customer_history.query('Order_Counts_2 !=0 & Order_Counts_1 ==0 ')"
   ]
  },
  {
   "cell_type": "code",
   "execution_count": 99,
   "metadata": {},
   "outputs": [
    {
     "name": "stdout",
     "output_type": "stream",
     "text": [
      "79 19 61\n"
     ]
    }
   ],
   "source": [
    "print(customer_counts_2013,len(new_2013),customer_counts_2012)"
   ]
  },
  {
   "cell_type": "markdown",
   "metadata": {},
   "source": [
    "* There are only one new customer in 2014 whereas 19 new customers in 2013. \n",
    "* The retention rates for 2014 and 2013 were 100% and 98% respectively.  \n",
    "\n",
    "This observations explain the reason for the increased total sales in 2013 explains.\n",
    "However, we need to investigate the reason for the decrease in total sales in 2014. \n",
    "\n",
    "We are going to test if the average number of orders per customer changed from 2013 to 2014. "
   ]
  },
  {
   "cell_type": "code",
   "execution_count": 166,
   "metadata": {},
   "outputs": [
    {
     "name": "stdout",
     "output_type": "stream",
     "text": [
      "Comparison of the average of total order per year  for year 2013 and 2014\n",
      "Median Values: \t2013:4.0 \t2014:3.0\n",
      "Mean Values: \t2013:4.69 \t2014:3.33\n",
      "Sample sizes: \t2013:81 \t2014:81\n",
      "\n",
      "\n",
      "Welch's t-test p-value:0.00109\n",
      "Test result:\tThere is statistically significant difference \n",
      " \t\tbetween the means of two groups with 50.0% confidence level.\n",
      "Effect size:\t0.49\n",
      "Level of effect size:\tsmall\n"
     ]
    },
    {
     "data": {
      "text/plain": [
       "(0.00109, 0.49)"
      ]
     },
     "execution_count": 166,
     "metadata": {},
     "output_type": "execute_result"
    }
   ],
   "source": [
    "compare = {}\n",
    "compare['2013']=customer_history.Order_Counts_1\n",
    "compare['2014']=customer_history.Order_Counts\n",
    "welch_summary(compare)"
   ]
  },
  {
   "cell_type": "markdown",
   "metadata": {},
   "source": [
    "The change in the average number of orders is significant."
   ]
  },
  {
   "cell_type": "markdown",
   "metadata": {},
   "source": [
    "Look at what was changed from 2012 to 2013. And 2013 to 2014"
   ]
  },
  {
   "cell_type": "code",
   "execution_count": null,
   "metadata": {},
   "outputs": [],
   "source": []
  },
  {
   "cell_type": "code",
   "execution_count": null,
   "metadata": {},
   "outputs": [],
   "source": []
  },
  {
   "cell_type": "code",
   "execution_count": null,
   "metadata": {},
   "outputs": [],
   "source": []
  },
  {
   "cell_type": "code",
   "execution_count": null,
   "metadata": {},
   "outputs": [],
   "source": []
  },
  {
   "cell_type": "code",
   "execution_count": null,
   "metadata": {},
   "outputs": [],
   "source": []
  },
  {
   "cell_type": "code",
   "execution_count": null,
   "metadata": {},
   "outputs": [],
   "source": []
  },
  {
   "cell_type": "code",
   "execution_count": null,
   "metadata": {},
   "outputs": [],
   "source": []
  },
  {
   "cell_type": "code",
   "execution_count": null,
   "metadata": {},
   "outputs": [],
   "source": []
  },
  {
   "cell_type": "code",
   "execution_count": 35,
   "metadata": {},
   "outputs": [],
   "source": [
    "categories ={}\n",
    "for i in list(df['CategoryId'].unique()):\n",
    "    categories[i]=df[df['CategoryId']==i].CategoryName.unique()[0]"
   ]
  },
  {
   "cell_type": "code",
   "execution_count": 36,
   "metadata": {},
   "outputs": [
    {
     "data": {
      "text/plain": [
       "{1: 'Beverages',\n",
       " 2: 'Condiments',\n",
       " 7: 'Produce',\n",
       " 6: 'Meat/Poultry',\n",
       " 8: 'Seafood',\n",
       " 4: 'Dairy Products',\n",
       " 3: 'Confections',\n",
       " 5: 'Grains/Cereals'}"
      ]
     },
     "execution_count": 36,
     "metadata": {},
     "output_type": "execute_result"
    }
   ],
   "source": [
    "categories"
   ]
  },
  {
   "cell_type": "code",
   "execution_count": 37,
   "metadata": {},
   "outputs": [
    {
     "data": {
      "text/plain": [
       "'Beverages'"
      ]
     },
     "execution_count": 37,
     "metadata": {},
     "output_type": "execute_result"
    }
   ],
   "source": [
    "df[df['CategoryId']==1].CategoryName.unique()[0]"
   ]
  },
  {
   "cell_type": "markdown",
   "metadata": {
    "heading_collapsed": true
   },
   "source": [
    "## Related to shipping date and order dates depending on the category of the ordered product\n",
    "* Need to change str to date time objects to calculate how long it takes to get shipping? "
   ]
  },
  {
   "cell_type": "code",
   "execution_count": 38,
   "metadata": {
    "hidden": true
   },
   "outputs": [
    {
     "data": {
      "text/plain": [
       "Western Europe     745\n",
       "North America      427\n",
       "South America      355\n",
       "British Isles      190\n",
       "Northern Europe    143\n",
       "Southern Europe    137\n",
       "Central America     72\n",
       "Scandinavia         70\n",
       "Eastern Europe      16\n",
       "Name: ShipRegion, dtype: int64"
      ]
     },
     "execution_count": 38,
     "metadata": {},
     "output_type": "execute_result"
    }
   ],
   "source": [
    "df.ShipRegion.value_counts()"
   ]
  },
  {
   "cell_type": "code",
   "execution_count": 39,
   "metadata": {
    "hidden": true
   },
   "outputs": [
    {
     "data": {
      "text/plain": [
       "Confections       77\n",
       "Beverages         72\n",
       "Dairy Products    69\n",
       "Seafood           61\n",
       "Grains/Cereals    43\n",
       "Condiments        43\n",
       "Meat/Poultry      41\n",
       "Produce           21\n",
       "Name: CategoryName, dtype: int64"
      ]
     },
     "execution_count": 39,
     "metadata": {},
     "output_type": "execute_result"
    }
   ],
   "source": [
    "df.query(\"ShipRegion == 'North America'\").CategoryName.value_counts()"
   ]
  },
  {
   "cell_type": "code",
   "execution_count": 40,
   "metadata": {
    "hidden": true,
    "scrolled": true
   },
   "outputs": [
    {
     "data": {
      "text/html": [
       "<div>\n",
       "<style scoped>\n",
       "    .dataframe tbody tr th:only-of-type {\n",
       "        vertical-align: middle;\n",
       "    }\n",
       "\n",
       "    .dataframe tbody tr th {\n",
       "        vertical-align: top;\n",
       "    }\n",
       "\n",
       "    .dataframe thead th {\n",
       "        text-align: right;\n",
       "    }\n",
       "</style>\n",
       "<table border=\"1\" class=\"dataframe\">\n",
       "  <thead>\n",
       "    <tr style=\"text-align: right;\">\n",
       "      <th></th>\n",
       "      <th>OrderDate</th>\n",
       "      <th>ShippedDate</th>\n",
       "      <th>RequiredDate</th>\n",
       "    </tr>\n",
       "  </thead>\n",
       "  <tbody>\n",
       "    <tr>\n",
       "      <th>136</th>\n",
       "      <td>2012-07-22</td>\n",
       "      <td>2012-07-25</td>\n",
       "      <td>2012-08-19</td>\n",
       "    </tr>\n",
       "    <tr>\n",
       "      <th>137</th>\n",
       "      <td>2012-12-17</td>\n",
       "      <td>2012-12-23</td>\n",
       "      <td>2013-01-14</td>\n",
       "    </tr>\n",
       "    <tr>\n",
       "      <th>138</th>\n",
       "      <td>2013-02-27</td>\n",
       "      <td>2013-02-28</td>\n",
       "      <td>2013-03-27</td>\n",
       "    </tr>\n",
       "    <tr>\n",
       "      <th>139</th>\n",
       "      <td>2013-03-11</td>\n",
       "      <td>2013-03-18</td>\n",
       "      <td>2013-04-08</td>\n",
       "    </tr>\n",
       "    <tr>\n",
       "      <th>140</th>\n",
       "      <td>2013-04-18</td>\n",
       "      <td>2013-04-21</td>\n",
       "      <td>2013-05-16</td>\n",
       "    </tr>\n",
       "    <tr>\n",
       "      <th>141</th>\n",
       "      <td>2013-05-23</td>\n",
       "      <td>2013-05-27</td>\n",
       "      <td>2013-06-20</td>\n",
       "    </tr>\n",
       "    <tr>\n",
       "      <th>142</th>\n",
       "      <td>2013-07-07</td>\n",
       "      <td>2013-07-16</td>\n",
       "      <td>2013-07-21</td>\n",
       "    </tr>\n",
       "    <tr>\n",
       "      <th>143</th>\n",
       "      <td>2013-07-22</td>\n",
       "      <td>2013-07-25</td>\n",
       "      <td>2013-08-19</td>\n",
       "    </tr>\n",
       "    <tr>\n",
       "      <th>144</th>\n",
       "      <td>2013-08-15</td>\n",
       "      <td>2013-08-21</td>\n",
       "      <td>2013-09-12</td>\n",
       "    </tr>\n",
       "    <tr>\n",
       "      <th>145</th>\n",
       "      <td>2013-10-06</td>\n",
       "      <td>2013-10-09</td>\n",
       "      <td>2013-11-03</td>\n",
       "    </tr>\n",
       "    <tr>\n",
       "      <th>146</th>\n",
       "      <td>2013-12-05</td>\n",
       "      <td>2013-12-09</td>\n",
       "      <td>2014-01-02</td>\n",
       "    </tr>\n",
       "    <tr>\n",
       "      <th>147</th>\n",
       "      <td>2013-12-22</td>\n",
       "      <td>2013-12-26</td>\n",
       "      <td>2014-01-19</td>\n",
       "    </tr>\n",
       "    <tr>\n",
       "      <th>148</th>\n",
       "      <td>2014-01-15</td>\n",
       "      <td>2014-01-23</td>\n",
       "      <td>2014-02-12</td>\n",
       "    </tr>\n",
       "    <tr>\n",
       "      <th>149</th>\n",
       "      <td>2014-01-29</td>\n",
       "      <td>2014-02-03</td>\n",
       "      <td>2014-02-26</td>\n",
       "    </tr>\n",
       "    <tr>\n",
       "      <th>150</th>\n",
       "      <td>2014-02-26</td>\n",
       "      <td>2014-03-06</td>\n",
       "      <td>2014-03-26</td>\n",
       "    </tr>\n",
       "    <tr>\n",
       "      <th>151</th>\n",
       "      <td>2014-02-26</td>\n",
       "      <td>2014-03-10</td>\n",
       "      <td>2014-03-26</td>\n",
       "    </tr>\n",
       "    <tr>\n",
       "      <th>152</th>\n",
       "      <td>2014-03-11</td>\n",
       "      <td>2014-03-23</td>\n",
       "      <td>2014-04-08</td>\n",
       "    </tr>\n",
       "    <tr>\n",
       "      <th>153</th>\n",
       "      <td>2014-03-18</td>\n",
       "      <td>2014-03-27</td>\n",
       "      <td>2014-04-15</td>\n",
       "    </tr>\n",
       "    <tr>\n",
       "      <th>154</th>\n",
       "      <td>2014-03-19</td>\n",
       "      <td>2014-03-23</td>\n",
       "      <td>2014-04-16</td>\n",
       "    </tr>\n",
       "    <tr>\n",
       "      <th>155</th>\n",
       "      <td>2014-03-26</td>\n",
       "      <td>2014-03-31</td>\n",
       "      <td>2014-04-23</td>\n",
       "    </tr>\n",
       "    <tr>\n",
       "      <th>156</th>\n",
       "      <td>2014-03-27</td>\n",
       "      <td>2014-04-08</td>\n",
       "      <td>2014-04-24</td>\n",
       "    </tr>\n",
       "    <tr>\n",
       "      <th>157</th>\n",
       "      <td>2014-03-31</td>\n",
       "      <td>2014-04-06</td>\n",
       "      <td>2014-04-28</td>\n",
       "    </tr>\n",
       "    <tr>\n",
       "      <th>158</th>\n",
       "      <td>2014-03-31</td>\n",
       "      <td>2014-04-10</td>\n",
       "      <td>2014-04-28</td>\n",
       "    </tr>\n",
       "    <tr>\n",
       "      <th>159</th>\n",
       "      <td>2014-04-06</td>\n",
       "      <td>2014-04-14</td>\n",
       "      <td>2014-05-04</td>\n",
       "    </tr>\n",
       "    <tr>\n",
       "      <th>160</th>\n",
       "      <td>2014-04-09</td>\n",
       "      <td>2014-04-21</td>\n",
       "      <td>2014-05-07</td>\n",
       "    </tr>\n",
       "    <tr>\n",
       "      <th>161</th>\n",
       "      <td>2014-04-14</td>\n",
       "      <td>2014-04-24</td>\n",
       "      <td>2014-04-28</td>\n",
       "    </tr>\n",
       "    <tr>\n",
       "      <th>162</th>\n",
       "      <td>2014-04-28</td>\n",
       "      <td>2014-05-01</td>\n",
       "      <td>2014-05-12</td>\n",
       "    </tr>\n",
       "    <tr>\n",
       "      <th>163</th>\n",
       "      <td>2014-05-05</td>\n",
       "      <td>None</td>\n",
       "      <td>2014-06-02</td>\n",
       "    </tr>\n",
       "    <tr>\n",
       "      <th>164</th>\n",
       "      <td>2014-05-06</td>\n",
       "      <td>None</td>\n",
       "      <td>2014-06-03</td>\n",
       "    </tr>\n",
       "    <tr>\n",
       "      <th>178</th>\n",
       "      <td>2013-01-21</td>\n",
       "      <td>2013-01-27</td>\n",
       "      <td>2013-02-18</td>\n",
       "    </tr>\n",
       "    <tr>\n",
       "      <th>...</th>\n",
       "      <td>...</td>\n",
       "      <td>...</td>\n",
       "      <td>...</td>\n",
       "    </tr>\n",
       "    <tr>\n",
       "      <th>2002</th>\n",
       "      <td>2014-03-31</td>\n",
       "      <td>2014-04-06</td>\n",
       "      <td>2014-04-28</td>\n",
       "    </tr>\n",
       "    <tr>\n",
       "      <th>2003</th>\n",
       "      <td>2014-04-01</td>\n",
       "      <td>2014-04-03</td>\n",
       "      <td>2014-04-29</td>\n",
       "    </tr>\n",
       "    <tr>\n",
       "      <th>2004</th>\n",
       "      <td>2014-04-14</td>\n",
       "      <td>2014-04-21</td>\n",
       "      <td>2014-05-12</td>\n",
       "    </tr>\n",
       "    <tr>\n",
       "      <th>2005</th>\n",
       "      <td>2012-08-12</td>\n",
       "      <td>2012-08-16</td>\n",
       "      <td>2012-09-09</td>\n",
       "    </tr>\n",
       "    <tr>\n",
       "      <th>2006</th>\n",
       "      <td>2013-01-21</td>\n",
       "      <td>2013-01-27</td>\n",
       "      <td>2013-02-18</td>\n",
       "    </tr>\n",
       "    <tr>\n",
       "      <th>2007</th>\n",
       "      <td>2013-03-27</td>\n",
       "      <td>2013-04-02</td>\n",
       "      <td>2013-04-24</td>\n",
       "    </tr>\n",
       "    <tr>\n",
       "      <th>2008</th>\n",
       "      <td>2013-05-12</td>\n",
       "      <td>2013-05-22</td>\n",
       "      <td>2013-06-09</td>\n",
       "    </tr>\n",
       "    <tr>\n",
       "      <th>2009</th>\n",
       "      <td>2013-05-14</td>\n",
       "      <td>2013-05-19</td>\n",
       "      <td>2013-05-28</td>\n",
       "    </tr>\n",
       "    <tr>\n",
       "      <th>2010</th>\n",
       "      <td>2013-06-04</td>\n",
       "      <td>2013-06-10</td>\n",
       "      <td>2013-07-02</td>\n",
       "    </tr>\n",
       "    <tr>\n",
       "      <th>2011</th>\n",
       "      <td>2013-07-16</td>\n",
       "      <td>2013-07-21</td>\n",
       "      <td>2013-08-13</td>\n",
       "    </tr>\n",
       "    <tr>\n",
       "      <th>2012</th>\n",
       "      <td>2013-08-11</td>\n",
       "      <td>2013-08-21</td>\n",
       "      <td>2013-09-22</td>\n",
       "    </tr>\n",
       "    <tr>\n",
       "      <th>2013</th>\n",
       "      <td>2013-09-16</td>\n",
       "      <td>2013-09-18</td>\n",
       "      <td>2013-10-14</td>\n",
       "    </tr>\n",
       "    <tr>\n",
       "      <th>2014</th>\n",
       "      <td>2013-10-06</td>\n",
       "      <td>2013-10-10</td>\n",
       "      <td>2013-10-20</td>\n",
       "    </tr>\n",
       "    <tr>\n",
       "      <th>2015</th>\n",
       "      <td>2013-10-14</td>\n",
       "      <td>2013-10-20</td>\n",
       "      <td>2013-11-11</td>\n",
       "    </tr>\n",
       "    <tr>\n",
       "      <th>2016</th>\n",
       "      <td>2013-11-24</td>\n",
       "      <td>2013-12-03</td>\n",
       "      <td>2013-12-22</td>\n",
       "    </tr>\n",
       "    <tr>\n",
       "      <th>2017</th>\n",
       "      <td>2014-02-11</td>\n",
       "      <td>2014-02-18</td>\n",
       "      <td>2014-03-11</td>\n",
       "    </tr>\n",
       "    <tr>\n",
       "      <th>2018</th>\n",
       "      <td>2014-05-06</td>\n",
       "      <td>None</td>\n",
       "      <td>2014-06-03</td>\n",
       "    </tr>\n",
       "    <tr>\n",
       "      <th>2019</th>\n",
       "      <td>2012-07-11</td>\n",
       "      <td>2012-07-23</td>\n",
       "      <td>2012-08-08</td>\n",
       "    </tr>\n",
       "    <tr>\n",
       "      <th>2020</th>\n",
       "      <td>2012-07-23</td>\n",
       "      <td>2012-07-31</td>\n",
       "      <td>2012-08-20</td>\n",
       "    </tr>\n",
       "    <tr>\n",
       "      <th>2021</th>\n",
       "      <td>2012-12-03</td>\n",
       "      <td>2012-12-27</td>\n",
       "      <td>2012-12-31</td>\n",
       "    </tr>\n",
       "    <tr>\n",
       "      <th>2022</th>\n",
       "      <td>2012-12-12</td>\n",
       "      <td>2012-12-13</td>\n",
       "      <td>2013-01-09</td>\n",
       "    </tr>\n",
       "    <tr>\n",
       "      <th>2023</th>\n",
       "      <td>2012-12-13</td>\n",
       "      <td>2012-12-16</td>\n",
       "      <td>2013-01-10</td>\n",
       "    </tr>\n",
       "    <tr>\n",
       "      <th>2024</th>\n",
       "      <td>2013-01-17</td>\n",
       "      <td>2013-01-24</td>\n",
       "      <td>2013-02-14</td>\n",
       "    </tr>\n",
       "    <tr>\n",
       "      <th>2025</th>\n",
       "      <td>2013-02-07</td>\n",
       "      <td>2013-02-10</td>\n",
       "      <td>2013-03-07</td>\n",
       "    </tr>\n",
       "    <tr>\n",
       "      <th>2026</th>\n",
       "      <td>2013-03-26</td>\n",
       "      <td>2013-04-02</td>\n",
       "      <td>2013-04-23</td>\n",
       "    </tr>\n",
       "    <tr>\n",
       "      <th>2027</th>\n",
       "      <td>2013-11-25</td>\n",
       "      <td>2013-11-27</td>\n",
       "      <td>2013-12-23</td>\n",
       "    </tr>\n",
       "    <tr>\n",
       "      <th>2028</th>\n",
       "      <td>2013-12-17</td>\n",
       "      <td>2013-12-19</td>\n",
       "      <td>2014-01-14</td>\n",
       "    </tr>\n",
       "    <tr>\n",
       "      <th>2029</th>\n",
       "      <td>2013-12-31</td>\n",
       "      <td>2014-01-05</td>\n",
       "      <td>2014-01-28</td>\n",
       "    </tr>\n",
       "    <tr>\n",
       "      <th>2030</th>\n",
       "      <td>2014-01-22</td>\n",
       "      <td>2014-01-23</td>\n",
       "      <td>2014-03-05</td>\n",
       "    </tr>\n",
       "    <tr>\n",
       "      <th>2031</th>\n",
       "      <td>2014-04-03</td>\n",
       "      <td>2014-04-17</td>\n",
       "      <td>2014-04-17</td>\n",
       "    </tr>\n",
       "  </tbody>\n",
       "</table>\n",
       "<p>1005 rows × 3 columns</p>\n",
       "</div>"
      ],
      "text/plain": [
       "       OrderDate ShippedDate RequiredDate\n",
       "136   2012-07-22  2012-07-25   2012-08-19\n",
       "137   2012-12-17  2012-12-23   2013-01-14\n",
       "138   2013-02-27  2013-02-28   2013-03-27\n",
       "139   2013-03-11  2013-03-18   2013-04-08\n",
       "140   2013-04-18  2013-04-21   2013-05-16\n",
       "141   2013-05-23  2013-05-27   2013-06-20\n",
       "142   2013-07-07  2013-07-16   2013-07-21\n",
       "143   2013-07-22  2013-07-25   2013-08-19\n",
       "144   2013-08-15  2013-08-21   2013-09-12\n",
       "145   2013-10-06  2013-10-09   2013-11-03\n",
       "146   2013-12-05  2013-12-09   2014-01-02\n",
       "147   2013-12-22  2013-12-26   2014-01-19\n",
       "148   2014-01-15  2014-01-23   2014-02-12\n",
       "149   2014-01-29  2014-02-03   2014-02-26\n",
       "150   2014-02-26  2014-03-06   2014-03-26\n",
       "151   2014-02-26  2014-03-10   2014-03-26\n",
       "152   2014-03-11  2014-03-23   2014-04-08\n",
       "153   2014-03-18  2014-03-27   2014-04-15\n",
       "154   2014-03-19  2014-03-23   2014-04-16\n",
       "155   2014-03-26  2014-03-31   2014-04-23\n",
       "156   2014-03-27  2014-04-08   2014-04-24\n",
       "157   2014-03-31  2014-04-06   2014-04-28\n",
       "158   2014-03-31  2014-04-10   2014-04-28\n",
       "159   2014-04-06  2014-04-14   2014-05-04\n",
       "160   2014-04-09  2014-04-21   2014-05-07\n",
       "161   2014-04-14  2014-04-24   2014-04-28\n",
       "162   2014-04-28  2014-05-01   2014-05-12\n",
       "163   2014-05-05        None   2014-06-02\n",
       "164   2014-05-06        None   2014-06-03\n",
       "178   2013-01-21  2013-01-27   2013-02-18\n",
       "...          ...         ...          ...\n",
       "2002  2014-03-31  2014-04-06   2014-04-28\n",
       "2003  2014-04-01  2014-04-03   2014-04-29\n",
       "2004  2014-04-14  2014-04-21   2014-05-12\n",
       "2005  2012-08-12  2012-08-16   2012-09-09\n",
       "2006  2013-01-21  2013-01-27   2013-02-18\n",
       "2007  2013-03-27  2013-04-02   2013-04-24\n",
       "2008  2013-05-12  2013-05-22   2013-06-09\n",
       "2009  2013-05-14  2013-05-19   2013-05-28\n",
       "2010  2013-06-04  2013-06-10   2013-07-02\n",
       "2011  2013-07-16  2013-07-21   2013-08-13\n",
       "2012  2013-08-11  2013-08-21   2013-09-22\n",
       "2013  2013-09-16  2013-09-18   2013-10-14\n",
       "2014  2013-10-06  2013-10-10   2013-10-20\n",
       "2015  2013-10-14  2013-10-20   2013-11-11\n",
       "2016  2013-11-24  2013-12-03   2013-12-22\n",
       "2017  2014-02-11  2014-02-18   2014-03-11\n",
       "2018  2014-05-06        None   2014-06-03\n",
       "2019  2012-07-11  2012-07-23   2012-08-08\n",
       "2020  2012-07-23  2012-07-31   2012-08-20\n",
       "2021  2012-12-03  2012-12-27   2012-12-31\n",
       "2022  2012-12-12  2012-12-13   2013-01-09\n",
       "2023  2012-12-13  2012-12-16   2013-01-10\n",
       "2024  2013-01-17  2013-01-24   2013-02-14\n",
       "2025  2013-02-07  2013-02-10   2013-03-07\n",
       "2026  2013-03-26  2013-04-02   2013-04-23\n",
       "2027  2013-11-25  2013-11-27   2013-12-23\n",
       "2028  2013-12-17  2013-12-19   2014-01-14\n",
       "2029  2013-12-31  2014-01-05   2014-01-28\n",
       "2030  2014-01-22  2014-01-23   2014-03-05\n",
       "2031  2014-04-03  2014-04-17   2014-04-17\n",
       "\n",
       "[1005 rows x 3 columns]"
      ]
     },
     "execution_count": 40,
     "metadata": {},
     "output_type": "execute_result"
    }
   ],
   "source": [
    "test =df.query(\"CategoryName in ['Seafood','Dairy Products','Meat/Poultry', 'Produce']  \")\n",
    "test.loc[:,['OrderDate','ShippedDate', 'RequiredDate']]"
   ]
  },
  {
   "cell_type": "code",
   "execution_count": null,
   "metadata": {
    "hidden": true
   },
   "outputs": [],
   "source": []
  },
  {
   "cell_type": "markdown",
   "metadata": {},
   "source": [
    "## Does discount amount have a statistically significant effect on the quantity of a product in an order? If so, at what level(s) of discount?"
   ]
  },
  {
   "cell_type": "code",
   "execution_count": 41,
   "metadata": {},
   "outputs": [
    {
     "data": {
      "text/plain": [
       "array([0.  , 0.15, 0.05, 0.2 , 0.25, 0.1 , 0.02, 0.03, 0.04, 0.06, 0.01])"
      ]
     },
     "execution_count": 41,
     "metadata": {},
     "output_type": "execute_result"
    }
   ],
   "source": [
    "df_tables['OrderDetail'].Discount.unique()"
   ]
  },
  {
   "cell_type": "code",
   "execution_count": 42,
   "metadata": {},
   "outputs": [],
   "source": [
    "query = \"\"\" SELECT DISTINCT(Discount) FROM OrderDetail ORDER BY Discount DESC\"\"\"\n",
    "perc_disc = pd.read_sql(query,conn).Discount"
   ]
  },
  {
   "cell_type": "code",
   "execution_count": 43,
   "metadata": {},
   "outputs": [
    {
     "data": {
      "text/plain": [
       "0     0.25\n",
       "1     0.20\n",
       "2     0.15\n",
       "3     0.10\n",
       "4     0.06\n",
       "5     0.05\n",
       "6     0.04\n",
       "7     0.03\n",
       "8     0.02\n",
       "9     0.01\n",
       "10    0.00\n",
       "Name: Discount, dtype: float64"
      ]
     },
     "execution_count": 43,
     "metadata": {},
     "output_type": "execute_result"
    }
   ],
   "source": [
    "perc_disc"
   ]
  },
  {
   "cell_type": "code",
   "execution_count": 44,
   "metadata": {},
   "outputs": [
    {
     "data": {
      "text/html": [
       "<div>\n",
       "<style scoped>\n",
       "    .dataframe tbody tr th:only-of-type {\n",
       "        vertical-align: middle;\n",
       "    }\n",
       "\n",
       "    .dataframe tbody tr th {\n",
       "        vertical-align: top;\n",
       "    }\n",
       "\n",
       "    .dataframe thead th {\n",
       "        text-align: right;\n",
       "    }\n",
       "</style>\n",
       "<table border=\"1\" class=\"dataframe\">\n",
       "  <thead>\n",
       "    <tr style=\"text-align: right;\">\n",
       "      <th></th>\n",
       "      <th>OrderId</th>\n",
       "      <th>ProductId</th>\n",
       "      <th>UnitPrice</th>\n",
       "      <th>Quantity</th>\n",
       "      <th>Discount</th>\n",
       "    </tr>\n",
       "  </thead>\n",
       "  <tbody>\n",
       "    <tr>\n",
       "      <th>count</th>\n",
       "      <td>2155.000000</td>\n",
       "      <td>2155.000000</td>\n",
       "      <td>2155.000000</td>\n",
       "      <td>2155.000000</td>\n",
       "      <td>2155.000000</td>\n",
       "    </tr>\n",
       "    <tr>\n",
       "      <th>mean</th>\n",
       "      <td>10659.375870</td>\n",
       "      <td>40.793039</td>\n",
       "      <td>26.218520</td>\n",
       "      <td>23.812993</td>\n",
       "      <td>0.056167</td>\n",
       "    </tr>\n",
       "    <tr>\n",
       "      <th>std</th>\n",
       "      <td>241.378032</td>\n",
       "      <td>22.159019</td>\n",
       "      <td>29.827418</td>\n",
       "      <td>19.022047</td>\n",
       "      <td>0.083450</td>\n",
       "    </tr>\n",
       "    <tr>\n",
       "      <th>min</th>\n",
       "      <td>10248.000000</td>\n",
       "      <td>1.000000</td>\n",
       "      <td>2.000000</td>\n",
       "      <td>1.000000</td>\n",
       "      <td>0.000000</td>\n",
       "    </tr>\n",
       "    <tr>\n",
       "      <th>25%</th>\n",
       "      <td>10451.000000</td>\n",
       "      <td>22.000000</td>\n",
       "      <td>12.000000</td>\n",
       "      <td>10.000000</td>\n",
       "      <td>0.000000</td>\n",
       "    </tr>\n",
       "    <tr>\n",
       "      <th>50%</th>\n",
       "      <td>10657.000000</td>\n",
       "      <td>41.000000</td>\n",
       "      <td>18.400000</td>\n",
       "      <td>20.000000</td>\n",
       "      <td>0.000000</td>\n",
       "    </tr>\n",
       "    <tr>\n",
       "      <th>75%</th>\n",
       "      <td>10862.500000</td>\n",
       "      <td>60.000000</td>\n",
       "      <td>32.000000</td>\n",
       "      <td>30.000000</td>\n",
       "      <td>0.100000</td>\n",
       "    </tr>\n",
       "    <tr>\n",
       "      <th>max</th>\n",
       "      <td>11077.000000</td>\n",
       "      <td>77.000000</td>\n",
       "      <td>263.500000</td>\n",
       "      <td>130.000000</td>\n",
       "      <td>0.250000</td>\n",
       "    </tr>\n",
       "  </tbody>\n",
       "</table>\n",
       "</div>"
      ],
      "text/plain": [
       "            OrderId    ProductId    UnitPrice     Quantity     Discount\n",
       "count   2155.000000  2155.000000  2155.000000  2155.000000  2155.000000\n",
       "mean   10659.375870    40.793039    26.218520    23.812993     0.056167\n",
       "std      241.378032    22.159019    29.827418    19.022047     0.083450\n",
       "min    10248.000000     1.000000     2.000000     1.000000     0.000000\n",
       "25%    10451.000000    22.000000    12.000000    10.000000     0.000000\n",
       "50%    10657.000000    41.000000    18.400000    20.000000     0.000000\n",
       "75%    10862.500000    60.000000    32.000000    30.000000     0.100000\n",
       "max    11077.000000    77.000000   263.500000   130.000000     0.250000"
      ]
     },
     "execution_count": 44,
     "metadata": {},
     "output_type": "execute_result"
    }
   ],
   "source": [
    "query = \"\"\" SELECT * FROM OrderDetail ORDER BY Discount DESC \"\"\"\n",
    "pd.read_sql(query,conn).describe()"
   ]
  },
  {
   "cell_type": "code",
   "execution_count": 45,
   "metadata": {},
   "outputs": [
    {
     "name": "stdout",
     "output_type": "stream",
     "text": [
      "number of sales with 25% discount : 154\n",
      "number of sales with 20% discount : 161\n",
      "number of sales with 15% discount : 157\n",
      "number of sales with 10% discount : 173\n",
      "number of sales with 6% discount : 1\n",
      "number of sales with 5% discount : 185\n",
      "number of sales with 4% discount : 1\n",
      "number of sales with 3% discount : 3\n",
      "number of sales with 2% discount : 2\n",
      "number of sales with 1% discount : 1\n",
      "number of sales with 0% discount : 1317\n"
     ]
    }
   ],
   "source": [
    "subsets ={}\n",
    "for disc in perc_disc:\n",
    "    percent = int(disc*100)\n",
    "    subsets[percent] = df[df.Discount == disc].Quantity\n",
    "    subsets[percent] = subsets[percent].reset_index().drop('index', axis =1)\n",
    "    print(f'number of sales with {percent}% discount :', len(subsets[percent]))\n",
    "#     lab =str(percent)+'%'\n",
    "    \n",
    "#     sns.distplot(subsets[percent], label = lab)\n",
    "#     plt.legend()"
   ]
  },
  {
   "cell_type": "code",
   "execution_count": 46,
   "metadata": {},
   "outputs": [
    {
     "name": "stderr",
     "output_type": "stream",
     "text": [
      "C:\\Users\\woogu\\Anaconda3\\envs\\learn-env\\lib\\site-packages\\scipy\\stats\\stats.py:1713: FutureWarning: Using a non-tuple sequence for multidimensional indexing is deprecated; use `arr[tuple(seq)]` instead of `arr[seq]`. In the future this will be interpreted as an array index, `arr[np.array(seq)]`, which will result either in an error or a different result.\n",
      "  return np.add.reduce(sorted[indexer] * weights, axis=axis) / sumval\n"
     ]
    },
    {
     "data": {
      "image/png": "[encoded data removed]",
      "text/plain": [
       "<Figure size 432x288 with 1 Axes>"
      ]
     },
     "metadata": {
      "needs_background": "light"
     },
     "output_type": "display_data"
    }
   ],
   "source": [
    "percents_testing = list(range(0,30,5))\n",
    "for percent in percents_testing:\n",
    "    lab =str(percent)+'%'\n",
    "    sns.distplot(subsets[percent], label = lab)\n",
    "    plt.xlabel('Quantities per order')\n",
    "    plt.legend()\n",
    "    plt.title('Distributions of Qunatities per order with varied dicount level'.title())"
   ]
  },
  {
   "cell_type": "markdown",
   "metadata": {},
   "source": [
    "The graph above shows that the highest peak (mean) of plots shift slightly right as the discount increases. \n",
    "\n",
    "We want to test the differences in means between no discount and varied discount levels are statistically significant. \n",
    "Let us name the group of orders with no discount as control set and its mean in quantity per order as $\\mu_0$. Then name the groups with different  discount levels (5% ~ 25%) as experimental set and their means as $\\mu_1$.\n",
    "\n",
    "We want to conduct one-sided Welch's t-test as:\n",
    "* we compare two independent sets with different sizes and variances; \n",
    "* we expect the discount would encourage customers to buy more not less. \n",
    "\n",
    "Null hypothesis($H_0$):\n",
    "\n",
    "$$\\Large\\mu_1 \\le \\mu_0$$ \n",
    "\n",
    "Alternative hypothesis($H_a$):\n",
    "\n",
    "$$\\Large\\mu_1 > \\mu_0$$\n",
    "\n"
   ]
  },
  {
   "cell_type": "code",
   "execution_count": 47,
   "metadata": {
    "scrolled": true
   },
   "outputs": [
    {
     "name": "stdout",
     "output_type": "stream",
     "text": [
      "The p-value to test significance of means in qunatities of an order \n",
      " between sets with no discount and 5% discount is 0.00014.\n",
      "With 95% confidence, the increase in quantities per order \n",
      " with 5 % discount is statistically significant.\n",
      "\n",
      "The p-value to test significance of means in qunatities of an order \n",
      " between sets with no discount and 10% discount is 0.01873.\n",
      "With 95% confidence, the increase in quantities per order \n",
      " with 10 % discount is statistically significant.\n",
      "\n",
      "The p-value to test significance of means in qunatities of an order \n",
      " between sets with no discount and 15% discount is 9e-05.\n",
      "With 95% confidence, the increase in quantities per order \n",
      " with 15 % discount is statistically significant.\n",
      "\n",
      "The p-value to test significance of means in qunatities of an order \n",
      " between sets with no discount and 20% discount is 0.00041.\n",
      "With 95% confidence, the increase in quantities per order \n",
      " with 20 % discount is statistically significant.\n",
      "\n",
      "The p-value to test significance of means in qunatities of an order \n",
      " between sets with no discount and 25% discount is 8e-05.\n",
      "With 95% confidence, the increase in quantities per order \n",
      " with 25 % discount is statistically significant.\n",
      "\n"
     ]
    }
   ],
   "source": [
    "discounts = percents_testing[1:]\n",
    "no_disc = subsets[0]\n",
    "for discount in discounts:\n",
    "    disc = subsets[discount]\n",
    "    p = p_value_welch_ttest(no_disc,disc, two_sided = False)\n",
    "    print(f\"The p-value to test significance of means in qunatities of an order \\n between sets with no discount and {discount}% discount is {np.round(p[0],5)}.\")\n",
    "    if p < 0.05:\n",
    "        print(f\"With 95% confidence, the increase in quantities per order \\n with {discount} % discount is statistically significant.\\n\")"
   ]
  },
  {
   "cell_type": "code",
   "execution_count": 105,
   "metadata": {},
   "outputs": [],
   "source": [
    "effect_sizes ={}\n",
    "# m0 = no_disc.mean().reset_index()[0][0]\n",
    "# std0 = no_disc.std().reset_index()[0][0]\n",
    "for discount in discounts:\n",
    "#     m1 = subsets[discount].mean().reset_index()[0][0]\n",
    "    effect = Cohen_d(subsets[discount],no_disc)\n",
    "    effect_sizes[discount]=effect"
   ]
  },
  {
   "cell_type": "code",
   "execution_count": 106,
   "metadata": {},
   "outputs": [
    {
     "data": {
      "text/plain": [
       "Text(0, 0.5, 'Effect Sizes')"
      ]
     },
     "execution_count": 106,
     "metadata": {},
     "output_type": "execute_result"
    },
    {
     "data": {
      "image/png": "[encoded data removed]",
      "text/plain": [
       "<Figure size 432x288 with 1 Axes>"
      ]
     },
     "metadata": {
      "needs_background": "light"
     },
     "output_type": "display_data"
    }
   ],
   "source": [
    "sns.barplot(x=discounts, y=list(effect_sizes.values()))\n",
    "plt.title('Effect sizes in quantities per order by discounts'.title())\n",
    "plt.xlabel('discounts (%)'.title())\n",
    "plt.ylabel(\"effect sizes\".title())"
   ]
  },
  {
   "cell_type": "code",
   "execution_count": 50,
   "metadata": {},
   "outputs": [
    {
     "name": "stdout",
     "output_type": "stream",
     "text": [
      "21.715261958997722 28.01081081081081\n"
     ]
    }
   ],
   "source": [
    "print(m0, subsets[5].mean().reset_index()[0][0])"
   ]
  },
  {
   "cell_type": "markdown",
   "metadata": {},
   "source": [
    "The effect sizes in quantities of products per order by discounts are small. \n",
    "Sales with small discounts result in quantity changes in orders as the one with larger discounts. With 5% discounts, about 15% of a group is estimated to order more ( about 6 more units)\n",
    "\n",
    "https://rpsychologist.com/d3/cohend/"
   ]
  },
  {
   "cell_type": "code",
   "execution_count": 51,
   "metadata": {
    "scrolled": true
   },
   "outputs": [
    {
     "data": {
      "text/plain": [
       "[<matplotlib.lines.Line2D at 0x2731a970128>]"
      ]
     },
     "execution_count": 51,
     "metadata": {},
     "output_type": "execute_result"
    },
    {
     "data": {
      "image/png": "[encoded data removed]",
      "text/plain": [
       "<Figure size 432x288 with 1 Axes>"
      ]
     },
     "metadata": {
      "needs_background": "light"
     },
     "output_type": "display_data"
    }
   ],
   "source": [
    "x=np.linspace(1000,3000,num = 10)\n",
    "y =(8*22)*x-(8-5)*(22*x*0.85+28*x*0.15)\n",
    "y1=x-(22*x*0.85+28*x*0.15)\n",
    "# print((100*0.08*22)*1000-(100*0.08-100*0.05)*(22*1000*0.85+28*1000*0.15))\n",
    "plt.plot(x,y1)"
   ]
  },
  {
   "cell_type": "code",
   "execution_count": 52,
   "metadata": {},
   "outputs": [
    {
     "data": {
      "text/plain": [
       "0.8999999999999999"
      ]
     },
     "execution_count": 52,
     "metadata": {},
     "output_type": "execute_result"
    }
   ],
   "source": [
    "0.15*6"
   ]
  },
  {
   "cell_type": "code",
   "execution_count": 53,
   "metadata": {},
   "outputs": [
    {
     "ename": "SyntaxError",
     "evalue": "invalid syntax (<ipython-input-53-839466aaf61c>, line 1)",
     "output_type": "error",
     "traceback": [
      "\u001b[1;36m  File \u001b[1;32m\"<ipython-input-53-839466aaf61c>\"\u001b[1;36m, line \u001b[1;32m1\u001b[0m\n\u001b[1;33m    power_analysis =\u001b[0m\n\u001b[1;37m                     ^\u001b[0m\n\u001b[1;31mSyntaxError\u001b[0m\u001b[1;31m:\u001b[0m invalid syntax\n"
     ]
    }
   ],
   "source": [
    "power_analysis = "
   ]
  },
  {
   "cell_type": "markdown",
   "metadata": {
    "heading_collapsed": true
   },
   "source": [
    "## Do customer come back based on shipping/ product?"
   ]
  },
  {
   "cell_type": "code",
   "execution_count": null,
   "metadata": {
    "hidden": true
   },
   "outputs": [],
   "source": []
  },
  {
   "cell_type": "markdown",
   "metadata": {},
   "source": [
    "## Exploring for questions to test"
   ]
  },
  {
   "cell_type": "code",
   "execution_count": null,
   "metadata": {},
   "outputs": [],
   "source": [
    "df_tables.keys()"
   ]
  },
  {
   "cell_type": "code",
   "execution_count": null,
   "metadata": {},
   "outputs": [],
   "source": [
    "df_tables['Order'].head()"
   ]
  },
  {
   "cell_type": "code",
   "execution_count": null,
   "metadata": {
    "scrolled": true
   },
   "outputs": [],
   "source": [
    "df_tables['Order'].ShipCountry.value_counts()"
   ]
  },
  {
   "cell_type": "code",
   "execution_count": null,
   "metadata": {},
   "outputs": [],
   "source": [
    "df_tables['Product'].head()"
   ]
  },
  {
   "cell_type": "code",
   "execution_count": null,
   "metadata": {},
   "outputs": [],
   "source": [
    "df_tables['Shipper'].info()"
   ]
  },
  {
   "cell_type": "code",
   "execution_count": null,
   "metadata": {},
   "outputs": [],
   "source": [
    "df_tables['Employee'].HireDate"
   ]
  },
  {
   "cell_type": "code",
   "execution_count": null,
   "metadata": {},
   "outputs": [],
   "source": []
  }
 ],
 "metadata": {
  "kernelspec": {
   "display_name": "Python [conda env:learn-env] *",
   "language": "python",
   "name": "conda-env-learn-env-py"
  },
  "language_info": {
   "codemirror_mode": {
    "name": "ipython",
    "version": 3
   },
   "file_extension": ".py",
   "mimetype": "text/x-python",
   "name": "python",
   "nbconvert_exporter": "python",
   "pygments_lexer": "ipython3",
   "version": "3.6.6"
  },
  "toc": {
   "base_numbering": 1,
   "nav_menu": {
    "height": "213px",
    "width": "593px"
   },
   "number_sections": true,
   "sideBar": true,
   "skip_h1_title": false,
   "title_cell": "Table of Contents",
   "title_sidebar": "Contents",
   "toc_cell": false,
   "toc_position": {
    "height": "calc(100% - 180px)",
    "left": "10px",
    "top": "150px",
    "width": "279.132px"
   },
   "toc_section_display": true,
   "toc_window_display": true
  },
  "varInspector": {
   "cols": {
    "lenName": 16,
    "lenType": 16,
    "lenVar": 40
   },
   "kernels_config": {
    "python": {
     "delete_cmd_postfix": "",
     "delete_cmd_prefix": "del ",
     "library": "var_list.py",
     "varRefreshCmd": "print(var_dic_list())"
    },
    "r": {
     "delete_cmd_postfix": ") ",
     "delete_cmd_prefix": "rm(",
     "library": "var_list.r",
     "varRefreshCmd": "cat(var_dic_list()) "
    }
   },
   "oldHeight": 122.667112,
   "position": {
    "height": "40px",
    "left": "1436.67px",
    "right": "20px",
    "top": "119px",
    "width": "250px"
   },
   "types_to_exclude": [
    "module",
    "function",
    "builtin_function_or_method",
    "instance",
    "_Feature"
   ],
   "varInspector_section_display": "none",
   "window_display": false
  }
 },
 "nbformat": 4,
 "nbformat_minor": 2
}
